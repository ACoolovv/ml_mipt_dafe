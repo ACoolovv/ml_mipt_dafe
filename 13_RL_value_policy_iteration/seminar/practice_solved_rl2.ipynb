{
  "nbformat": 4,
  "nbformat_minor": 0,
  "metadata": {
    "kernelspec": {
      "display_name": "Python 3",
      "language": "python",
      "name": "python3"
    },
    "language_info": {
      "codemirror_mode": {
        "name": "ipython",
        "version": 3
      },
      "file_extension": ".py",
      "mimetype": "text/x-python",
      "name": "python",
      "nbconvert_exporter": "python",
      "pygments_lexer": "ipython3",
      "version": "3.7.5"
    },
    "colab": {
      "provenance": []
    }
  },
  "cells": [
    {
      "cell_type": "markdown",
      "metadata": {
        "id": "VwT1_i5urB-S"
      },
      "source": [
        "# Value Iteration. Policy Iteration."
      ]
    },
    {
      "cell_type": "code",
      "source": [
        "!pip install numpy==1.23.5"
      ],
      "metadata": {
        "colab": {
          "base_uri": "https://localhost:8080/"
        },
        "id": "gwibjEJ-89JU",
        "outputId": "95cea90e-ba30-4f2e-895f-6df2a305cba9"
      },
      "execution_count": 1,
      "outputs": [
        {
          "output_type": "stream",
          "name": "stdout",
          "text": [
            "Requirement already satisfied: numpy==1.23.5 in /usr/local/lib/python3.11/dist-packages (1.23.5)\n"
          ]
        }
      ]
    },
    {
      "cell_type": "code",
      "source": [
        "import gym\n",
        "import os\n",
        "import numpy as np\n",
        "import itertools\n",
        "from collections import defaultdict\n",
        "from gym.envs import toy_text\n",
        "import matplotlib.pyplot as plt\n",
        "from IPython.display import Image\n",
        "from IPython.display import clear_output, display\n",
        "%matplotlib inline\n",
        "gym.__version__"
      ],
      "metadata": {
        "colab": {
          "base_uri": "https://localhost:8080/",
          "height": 36
        },
        "id": "5tThXctua8EH",
        "outputId": "2f4fb206-b508-4ee3-b26e-35411b3fe35b"
      },
      "execution_count": 2,
      "outputs": [
        {
          "output_type": "execute_result",
          "data": {
            "text/plain": [
              "'0.25.2'"
            ],
            "application/vnd.google.colaboratory.intrinsic+json": {
              "type": "string"
            }
          },
          "metadata": {},
          "execution_count": 2
        }
      ]
    },
    {
      "cell_type": "markdown",
      "metadata": {
        "id": "wkzMNoirrB-c"
      },
      "source": [
        "## Value Iteration"
      ]
    },
    {
      "cell_type": "markdown",
      "metadata": {
        "id": "CeS58CcZrB-c"
      },
      "source": [
        "На лекции мы рассмотрели, как мы можем выучить оптимальную политику, используя алгоритм Value Iteration, если нам известна динамика среды, а также если пространства состояний и действий не большие и дискретные."
      ]
    },
    {
      "cell_type": "markdown",
      "metadata": {
        "id": "j8V198ZWrB-c"
      },
      "source": [
        "Попробуем выучить оптимальную политику в среде <a href=https://gymnasium.farama.org/environments/toy_text/frozen_lake/>FrozenLake-v1</a>. Это простая среда с маленькими пространствами состояний и действий, а также с известной динамикой."
      ]
    },
    {
      "cell_type": "markdown",
      "metadata": {
        "id": "R1RDsVzIrB-c"
      },
      "source": [
        "Создадим среду и выведем её описание."
      ]
    },
    {
      "cell_type": "code",
      "metadata": {
        "id": "9dGUx3aVrB-c",
        "colab": {
          "base_uri": "https://localhost:8080/"
        },
        "outputId": "4c35a2c9-c1b8-4288-b2b0-13e879c60f35"
      },
      "source": [
        "env = gym.make('FrozenLake-v1', render_mode='rgb_array')\n",
        "env.reset()\n",
        "\n",
        "print(\"Observation space:\", env.observation_space)\n",
        "print(\"Action space:\", env.action_space)"
      ],
      "execution_count": 3,
      "outputs": [
        {
          "output_type": "stream",
          "name": "stderr",
          "text": [
            "/usr/local/lib/python3.11/dist-packages/gym/core.py:317: DeprecationWarning: \u001b[33mWARN: Initializing wrapper in old step API which returns one bool instead of two. It is recommended to set `new_step_api=True` to use new step API. This will be the default behaviour in future.\u001b[0m\n",
            "  deprecation(\n",
            "/usr/local/lib/python3.11/dist-packages/gym/wrappers/step_api_compatibility.py:39: DeprecationWarning: \u001b[33mWARN: Initializing environment in old step API which returns one bool instead of two. It is recommended to set `new_step_api=True` to use new step API. This will be the default behaviour in future.\u001b[0m\n",
            "  deprecation(\n"
          ]
        },
        {
          "output_type": "stream",
          "name": "stdout",
          "text": [
            "Observation space: Discrete(16)\n",
            "Action space: Discrete(4)\n"
          ]
        }
      ]
    },
    {
      "cell_type": "code",
      "metadata": {
        "id": "jWZQhZXMrB-d",
        "colab": {
          "base_uri": "https://localhost:8080/"
        },
        "outputId": "c6054684-2d09-4191-d76f-7c22035d3b52"
      },
      "source": [
        "print(env.env.__doc__)"
      ],
      "execution_count": 4,
      "outputs": [
        {
          "output_type": "stream",
          "name": "stdout",
          "text": [
            "A wrapper that will produce an error if :meth:`step` is called before an initial :meth:`reset`.\n",
            "\n",
            "    Example:\n",
            "        >>> from gym.envs.classic_control import CartPoleEnv\n",
            "        >>> env = CartPoleEnv()\n",
            "        >>> env = OrderEnforcing(env)\n",
            "        >>> env.step(0)\n",
            "        ResetNeeded: Cannot call env.step() before calling env.reset()\n",
            "        >>> env.render()\n",
            "        ResetNeeded: Cannot call env.render() before calling env.reset()\n",
            "        >>> env.reset()\n",
            "        >>> env.render()\n",
            "        >>> env.step(0)\n",
            "    \n"
          ]
        }
      ]
    },
    {
      "cell_type": "code",
      "source": [
        "env_screen = np.squeeze(np.array(env.render()))\n",
        "print(env_screen.shape)\n",
        "plt.imshow(env_screen)\n",
        "plt.show()"
      ],
      "metadata": {
        "colab": {
          "base_uri": "https://localhost:8080/",
          "height": 452
        },
        "id": "C7gfROT55VfQ",
        "outputId": "f18f21fc-90b9-4daf-8080-24f4dd7a9f57"
      },
      "execution_count": 5,
      "outputs": [
        {
          "output_type": "stream",
          "name": "stdout",
          "text": [
            "(256, 256, 3)\n"
          ]
        },
        {
          "output_type": "display_data",
          "data": {
            "text/plain": [
              "<Figure size 640x480 with 1 Axes>"
            ],
            "image/png": "[encoded data removed]"
          },
          "metadata": {}
        }
      ]
    },
    {
      "cell_type": "markdown",
      "metadata": {
        "id": "jeE7E_RrrB-d"
      },
      "source": [
        "Как видно среда представляет собой поле 4 на 4, по которому нужно добраться от начала (клетка *S*) до цели (клетка *G*). При этом среда является недетерменированный - с определенной вероятностью при совершения действия агент подскользнется и попадет не в ту клетку, в которую направлялся. Клетка *H* обозначает прорубь. Игра закначивается, когда агент попадает в клетку *G* или в клету *H*. Если агент проваливается в прорубь, то он получает награду *0*, если достигает клетки цели *1*."
      ]
    },
    {
      "cell_type": "markdown",
      "metadata": {
        "id": "LKfH731DrB-d"
      },
      "source": [
        "Посмотрим на отображение игры и сколько в среднем очков награды за 100 эпизодов получит наш агент, если будет выполнять случайные действия."
      ]
    },
    {
      "cell_type": "code",
      "metadata": {
        "id": "mebroA_frB-d"
      },
      "source": [
        "env.reset(seed=42);"
      ],
      "execution_count": 6,
      "outputs": []
    },
    {
      "cell_type": "code",
      "source": [
        "env = gym.make('FrozenLake-v1', render_mode='rgb_array')\n",
        "\n",
        "TIME_LIMIT = 5\n",
        "total_reward = []\n",
        "\n",
        "for episode in range(TIME_LIMIT):\n",
        "    clear_output(wait=True)\n",
        "\n",
        "    episode_reward = 0\n",
        "    observation = env.reset()\n",
        "\n",
        "    for t in range(TIME_LIMIT):\n",
        "        action = env.action_space.sample()\n",
        "        observation, reward, done, _ = env.step(action)\n",
        "\n",
        "        frames = env.render()\n",
        "        frame = frames[0]\n",
        "        plt.imshow(frame)\n",
        "        display(plt.gcf())\n",
        "        plt.pause(0.1)\n",
        "        clear_output(wait=True)\n",
        "\n",
        "        episode_reward += reward\n",
        "        if done:\n",
        "            print(f\"Episode {episode+1} finished after {t+1} timesteps\")\n",
        "            break\n",
        "\n",
        "    total_reward.append(episode_reward)\n",
        "\n",
        "env.close()"
      ],
      "metadata": {
        "colab": {
          "base_uri": "https://localhost:8080/",
          "height": 853
        },
        "id": "SFFAGRQc9zmI",
        "outputId": "22d22fd4-b6db-4b85-81e1-fd9ad8764f3e"
      },
      "execution_count": 7,
      "outputs": [
        {
          "output_type": "stream",
          "name": "stdout",
          "text": [
            "Episode 5 finished after 2 timesteps\n"
          ]
        }
      ]
    },
    {
      "cell_type": "code",
      "metadata": {
        "id": "fandrCwXrB-d",
        "colab": {
          "base_uri": "https://localhost:8080/"
        },
        "outputId": "c7982fc5-aefd-4fc6-84e0-d527db3bd54e"
      },
      "source": [
        "TIME_LIMIT = 100\n",
        "\n",
        "total_reward = []\n",
        "for episode in range(TIME_LIMIT):\n",
        "    episode_reward = 0\n",
        "    observation = env.reset()\n",
        "    for t in range(TIME_LIMIT):\n",
        "        # env.render()\n",
        "        action = env.action_space.sample()\n",
        "        observation, reward, done, _ = env.step(action)\n",
        "        episode_reward += reward\n",
        "        if done:\n",
        "            print(\"Episode {} finished after {} timesteps\".format(episode+1, t+1))\n",
        "            break\n",
        "    total_reward.append(episode_reward)"
      ],
      "execution_count": 8,
      "outputs": [
        {
          "output_type": "stream",
          "name": "stdout",
          "text": [
            "Episode 1 finished after 9 timesteps\n",
            "Episode 2 finished after 5 timesteps\n",
            "Episode 3 finished after 4 timesteps\n",
            "Episode 4 finished after 5 timesteps\n",
            "Episode 5 finished after 4 timesteps\n",
            "Episode 6 finished after 5 timesteps\n",
            "Episode 7 finished after 8 timesteps\n",
            "Episode 8 finished after 14 timesteps\n",
            "Episode 9 finished after 3 timesteps\n",
            "Episode 10 finished after 10 timesteps\n",
            "Episode 11 finished after 6 timesteps\n",
            "Episode 12 finished after 5 timesteps\n",
            "Episode 13 finished after 8 timesteps\n",
            "Episode 14 finished after 7 timesteps\n",
            "Episode 15 finished after 7 timesteps\n",
            "Episode 16 finished after 6 timesteps\n",
            "Episode 17 finished after 4 timesteps\n",
            "Episode 18 finished after 8 timesteps\n",
            "Episode 19 finished after 6 timesteps\n",
            "Episode 20 finished after 6 timesteps\n",
            "Episode 21 finished after 7 timesteps\n",
            "Episode 22 finished after 3 timesteps\n",
            "Episode 23 finished after 7 timesteps\n",
            "Episode 24 finished after 6 timesteps\n",
            "Episode 25 finished after 5 timesteps\n",
            "Episode 26 finished after 14 timesteps\n",
            "Episode 27 finished after 4 timesteps\n",
            "Episode 28 finished after 21 timesteps\n",
            "Episode 29 finished after 3 timesteps\n",
            "Episode 30 finished after 6 timesteps\n",
            "Episode 31 finished after 3 timesteps\n",
            "Episode 32 finished after 2 timesteps\n",
            "Episode 33 finished after 14 timesteps\n",
            "Episode 34 finished after 16 timesteps\n",
            "Episode 35 finished after 9 timesteps\n",
            "Episode 36 finished after 7 timesteps\n",
            "Episode 37 finished after 4 timesteps\n",
            "Episode 38 finished after 17 timesteps\n",
            "Episode 39 finished after 9 timesteps\n",
            "Episode 40 finished after 9 timesteps\n",
            "Episode 41 finished after 2 timesteps\n",
            "Episode 42 finished after 2 timesteps\n",
            "Episode 43 finished after 14 timesteps\n",
            "Episode 44 finished after 5 timesteps\n",
            "Episode 45 finished after 10 timesteps\n",
            "Episode 46 finished after 12 timesteps\n",
            "Episode 47 finished after 4 timesteps\n",
            "Episode 48 finished after 4 timesteps\n",
            "Episode 49 finished after 5 timesteps\n",
            "Episode 50 finished after 2 timesteps\n",
            "Episode 51 finished after 15 timesteps\n",
            "Episode 52 finished after 2 timesteps\n",
            "Episode 53 finished after 11 timesteps\n",
            "Episode 54 finished after 4 timesteps\n",
            "Episode 55 finished after 4 timesteps\n",
            "Episode 56 finished after 9 timesteps\n",
            "Episode 57 finished after 4 timesteps\n",
            "Episode 58 finished after 16 timesteps\n",
            "Episode 59 finished after 7 timesteps\n",
            "Episode 60 finished after 14 timesteps\n",
            "Episode 61 finished after 3 timesteps\n",
            "Episode 62 finished after 4 timesteps\n",
            "Episode 63 finished after 13 timesteps\n",
            "Episode 64 finished after 9 timesteps\n",
            "Episode 65 finished after 8 timesteps\n",
            "Episode 66 finished after 5 timesteps\n",
            "Episode 67 finished after 8 timesteps\n",
            "Episode 68 finished after 2 timesteps\n",
            "Episode 69 finished after 4 timesteps\n",
            "Episode 70 finished after 5 timesteps\n",
            "Episode 71 finished after 3 timesteps\n",
            "Episode 72 finished after 2 timesteps\n",
            "Episode 73 finished after 6 timesteps\n",
            "Episode 74 finished after 8 timesteps\n",
            "Episode 75 finished after 4 timesteps\n",
            "Episode 76 finished after 22 timesteps\n",
            "Episode 77 finished after 6 timesteps\n",
            "Episode 78 finished after 10 timesteps\n",
            "Episode 79 finished after 2 timesteps\n",
            "Episode 80 finished after 4 timesteps\n",
            "Episode 81 finished after 9 timesteps\n",
            "Episode 82 finished after 5 timesteps\n",
            "Episode 83 finished after 32 timesteps\n",
            "Episode 84 finished after 2 timesteps\n",
            "Episode 85 finished after 18 timesteps\n",
            "Episode 86 finished after 4 timesteps\n",
            "Episode 87 finished after 21 timesteps\n",
            "Episode 88 finished after 9 timesteps\n",
            "Episode 89 finished after 18 timesteps\n",
            "Episode 90 finished after 7 timesteps\n",
            "Episode 91 finished after 9 timesteps\n",
            "Episode 92 finished after 8 timesteps\n",
            "Episode 93 finished after 2 timesteps\n",
            "Episode 94 finished after 8 timesteps\n",
            "Episode 95 finished after 9 timesteps\n",
            "Episode 96 finished after 9 timesteps\n",
            "Episode 97 finished after 2 timesteps\n",
            "Episode 98 finished after 16 timesteps\n",
            "Episode 99 finished after 8 timesteps\n",
            "Episode 100 finished after 3 timesteps\n"
          ]
        }
      ]
    },
    {
      "cell_type": "code",
      "metadata": {
        "id": "ohnx-1750U37",
        "colab": {
          "base_uri": "https://localhost:8080/",
          "height": 430
        },
        "outputId": "0837b65e-d903-4aa8-ede0-147c0dc099f5"
      },
      "source": [
        "plt.plot(total_reward)\n",
        "plt.show()"
      ],
      "execution_count": 9,
      "outputs": [
        {
          "output_type": "display_data",
          "data": {
            "text/plain": [
              "<Figure size 640x480 with 1 Axes>"
            ],
            "image/png": "[encoded data removed]"
          },
          "metadata": {}
        }
      ]
    },
    {
      "cell_type": "code",
      "metadata": {
        "id": "FWJQNMjgrB-e",
        "colab": {
          "base_uri": "https://localhost:8080/"
        },
        "outputId": "d7b3715f-45ff-4103-b151-52e23a531f8f"
      },
      "source": [
        "print(np.mean(total_reward))"
      ],
      "execution_count": 10,
      "outputs": [
        {
          "output_type": "stream",
          "name": "stdout",
          "text": [
            "0.01\n"
          ]
        }
      ]
    },
    {
      "cell_type": "markdown",
      "metadata": {
        "id": "5Bkcsr7irB-e"
      },
      "source": [
        "Как видим, только в 2 эпизодах из 100 агену удалось добраться до цели."
      ]
    },
    {
      "cell_type": "markdown",
      "metadata": {
        "id": "hP2WQJuDrB-e"
      },
      "source": [
        "Из среды OpenAI Gym мы можем получить элементы MDP (Markov Decision Process)."
      ]
    },
    {
      "cell_type": "markdown",
      "metadata": {
        "id": "NE1bEiMvrB-e"
      },
      "source": [
        "В env.env.P хранится двухуровневый словарь, в котором первый ключ является состояние, а второй - действием.\n",
        "Клетки ассоциированыс индексами [0, 1, 2, ..., 15] слева направо и сверху вниз."
      ]
    },
    {
      "cell_type": "markdown",
      "metadata": {
        "id": "7fld4FxfrB-f"
      },
      "source": [
        "Индексы действией [0, 1, 2, 3] соответствуют движению на Запад, Юг, Восток и Север.\n",
        "env.env.P[state][action] возвращает лист кортежей (probability, nextstate, reward). Например, состояние 0 - это начальное состояние и информация о веротностях перехода для s=0 и a=0 содержит:"
      ]
    },
    {
      "cell_type": "code",
      "metadata": {
        "id": "ShWO5jHzrB-f",
        "colab": {
          "base_uri": "https://localhost:8080/"
        },
        "outputId": "d8bd9769-870b-4dd2-cdf8-5fe23c699834"
      },
      "source": [
        "env.env.P[0][0]"
      ],
      "execution_count": 11,
      "outputs": [
        {
          "output_type": "execute_result",
          "data": {
            "text/plain": [
              "[(0.3333333333333333, 0, 0.0, False),\n",
              " (0.3333333333333333, 0, 0.0, False),\n",
              " (0.3333333333333333, 4, 0.0, False)]"
            ]
          },
          "metadata": {},
          "execution_count": 11
        }
      ]
    },
    {
      "cell_type": "markdown",
      "metadata": {
        "id": "uRczJz33rB-f"
      },
      "source": [
        "Другой пример - состояние 5 сооветсвует проруби, и все действия в данном состоянии приводят к тому же состоянию с вероятностью 1 и наградой 0."
      ]
    },
    {
      "cell_type": "code",
      "metadata": {
        "id": "p6v3d50WrB-f",
        "colab": {
          "base_uri": "https://localhost:8080/"
        },
        "outputId": "3d921d57-3670-469c-a8ef-abee8323672e"
      },
      "source": [
        "for i in range(4):\n",
        "    print(\"P[5][%i] =\" % i, env.env.P[5][i])"
      ],
      "execution_count": 12,
      "outputs": [
        {
          "output_type": "stream",
          "name": "stdout",
          "text": [
            "P[5][0] = [(1.0, 5, 0, True)]\n",
            "P[5][1] = [(1.0, 5, 0, True)]\n",
            "P[5][2] = [(1.0, 5, 0, True)]\n",
            "P[5][3] = [(1.0, 5, 0, True)]\n"
          ]
        }
      ]
    },
    {
      "cell_type": "markdown",
      "metadata": {
        "id": "ulL50EKqrB-g"
      },
      "source": [
        "Вспомним, что из себя представляет алгоритм Value Iteration:\n",
        "![img](value_iteration.png)"
      ]
    },
    {
      "cell_type": "markdown",
      "metadata": {
        "id": "PpOdbLucrB-g"
      },
      "source": [
        "Будем считать задание решенным, если агент доходит до цели в среднем в 70% эпизодов. Напишем несклько вспомогательных функций. Запомним число состояний и действий в среде."
      ]
    },
    {
      "cell_type": "code",
      "metadata": {
        "colab": {
          "base_uri": "https://localhost:8080/"
        },
        "id": "ltyUvF-NrB-g",
        "outputId": "58f1cc02-14fb-487e-82f9-bf0b7606049b"
      },
      "source": [
        "n_states = env.env.observation_space.n\n",
        "n_actions = env.env.action_space.n\n",
        "print(\"Number of states: {}\".format(n_states))\n",
        "print(\"Number of actions: {}\".format(n_actions))"
      ],
      "execution_count": 13,
      "outputs": [
        {
          "output_type": "stream",
          "name": "stdout",
          "text": [
            "Number of states: 16\n",
            "Number of actions: 4\n"
          ]
        }
      ]
    },
    {
      "cell_type": "markdown",
      "metadata": {
        "id": "D17jl3KPrB-h"
      },
      "source": [
        "Поскольку алгоритм Value Iteration возвращает нам оптимальную V-функцию, то нам необходимо извлекать из нее оптимальную политику (как указано в последней строке псевдокода алгоритма)."
      ]
    },
    {
      "cell_type": "code",
      "metadata": {
        "id": "xbflyrGbrB-h"
      },
      "source": [
        "def extract_policy(v, gamma = 1.0):\n",
        "    policy = np.zeros(n_states)\n",
        "    for state in range(n_states):\n",
        "        q = np.zeros(n_actions)\n",
        "        for action in range(n_actions):\n",
        "            for next_sr in env.env.P[state][action]:\n",
        "                probability, next_state, reward, _ = next_sr\n",
        "                q[action] += (probability*(reward + gamma*v[next_state]))\n",
        "        policy[state] = np.argmax(q)\n",
        "    return policy"
      ],
      "execution_count": 14,
      "outputs": []
    },
    {
      "cell_type": "markdown",
      "metadata": {
        "id": "TGM8knFyrB-h"
      },
      "source": [
        "Также напишем функцию для оценки нашей найденной политики."
      ]
    },
    {
      "cell_type": "code",
      "metadata": {
        "id": "APPFY7mjrB-i"
      },
      "source": [
        "def evaluate_policy(env, policy, gamma=1.0, n=100):\n",
        "    total_reward = []\n",
        "    for episode in range(n):\n",
        "        episode_reward = 0\n",
        "        observation = env.reset()\n",
        "        step = 0\n",
        "        for _ in range(100):\n",
        "            env.render()\n",
        "            action = int(policy[observation])\n",
        "            observation, reward, done, _ = env.step(action)\n",
        "            episode_reward += gamma**step*reward\n",
        "            step += 1\n",
        "            if done:\n",
        "                break\n",
        "        total_reward.append(episode_reward)\n",
        "    return np.mean(total_reward)"
      ],
      "execution_count": 15,
      "outputs": []
    },
    {
      "cell_type": "markdown",
      "metadata": {
        "id": "jcMS01htrB-i"
      },
      "source": [
        "Нам остается написать основную функцию, которая вернет оптимальную V-функцию."
      ]
    },
    {
      "cell_type": "code",
      "metadata": {
        "id": "Ql3n1-T3rB-i"
      },
      "source": [
        "def value_iteration(env, gamma=1.0, max_iterations = 100000):\n",
        "    v = np.zeros(n_states)\n",
        "    eps = 1e-20\n",
        "    for i in range(max_iterations):\n",
        "      prev_v = np.copy(v)\n",
        "\n",
        "      for s in range(n_states):\n",
        "        q_state_action = np.zeros(n_actions)\n",
        "\n",
        "        for a in range(n_actions):\n",
        "          q_state_action_state = 0\n",
        "\n",
        "          for p, s_, r, _ in env.env.P[s][a]:\n",
        "            q_state_action_state += p*(r + prev_v[s_])\n",
        "\n",
        "          q_state_action[a] = q_state_action_state\n",
        "\n",
        "        v[s] = max(q_state_action)\n",
        "      if (np.sum(np.fabs(prev_v - v)) <= eps):\n",
        "          print ('Value-iteration converged at iteration# %d.' %(i+1))\n",
        "          break\n",
        "    return v"
      ],
      "execution_count": 16,
      "outputs": []
    },
    {
      "cell_type": "code",
      "metadata": {
        "id": "4dfXMw3c-gks"
      },
      "source": [
        "def value_iteration(env, gamma = 1.0):\n",
        "    \"\"\" Value-iteration algorithm \"\"\"\n",
        "    v = np.zeros(n_states)  # initialize value-function\n",
        "    max_iterations = 100000\n",
        "    eps = 1e-20\n",
        "    for i in range(max_iterations):\n",
        "        prev_v = np.copy(v)\n",
        "        for s in range(n_states):\n",
        "            q_sa = [sum([p*(r + prev_v[s_]) for p, s_, r, _ in env.env.P[s][a]]) for a in range(n_actions)]\n",
        "            v[s] = max(q_sa)\n",
        "        if (np.sum(np.fabs(prev_v - v)) <= eps):\n",
        "            print ('Value-iteration converged at iteration# %d.' %(i+1))\n",
        "            break\n",
        "    return v"
      ],
      "execution_count": 17,
      "outputs": []
    },
    {
      "cell_type": "markdown",
      "metadata": {
        "id": "XccGHZkErB-i"
      },
      "source": [
        "Теперь мы можем найти оптимальную V-функцию, извлечь из нее оптимальную политику и оцениь ее."
      ]
    },
    {
      "cell_type": "code",
      "metadata": {
        "id": "tKkg6zzTrB-i",
        "colab": {
          "base_uri": "https://localhost:8080/"
        },
        "outputId": "b45ec07e-6bc0-45a9-82e7-f0ea84510601"
      },
      "source": [
        "optimal_v = value_iteration(env)\n",
        "optimal_policy = extract_policy(optimal_v)\n",
        "optimal_policy_score = evaluate_policy(env, optimal_policy, n=100)"
      ],
      "execution_count": 18,
      "outputs": [
        {
          "output_type": "stream",
          "name": "stdout",
          "text": [
            "Value-iteration converged at iteration# 1373.\n"
          ]
        }
      ]
    },
    {
      "cell_type": "code",
      "metadata": {
        "id": "nU7QpdbSrB-j",
        "colab": {
          "base_uri": "https://localhost:8080/"
        },
        "outputId": "d4584b1c-8ab1-4113-e9fc-befc5e15d4a6"
      },
      "source": [
        "print(optimal_v.reshape(4,4))"
      ],
      "execution_count": 19,
      "outputs": [
        {
          "output_type": "stream",
          "name": "stdout",
          "text": [
            "[[0.82352941 0.82352941 0.82352941 0.82352941]\n",
            " [0.82352941 0.         0.52941176 0.        ]\n",
            " [0.82352941 0.82352941 0.76470588 0.        ]\n",
            " [0.         0.88235294 0.94117647 0.        ]]\n"
          ]
        }
      ]
    },
    {
      "cell_type": "code",
      "metadata": {
        "id": "jBhHv_lXrB-j",
        "colab": {
          "base_uri": "https://localhost:8080/"
        },
        "outputId": "c8820903-549f-46a6-9d37-2558c0c1cfe3"
      },
      "source": [
        "print(optimal_policy.reshape(4,4))"
      ],
      "execution_count": 20,
      "outputs": [
        {
          "output_type": "stream",
          "name": "stdout",
          "text": [
            "[[0. 3. 3. 3.]\n",
            " [0. 0. 0. 0.]\n",
            " [3. 1. 0. 0.]\n",
            " [0. 2. 1. 0.]]\n"
          ]
        }
      ]
    },
    {
      "cell_type": "code",
      "metadata": {
        "colab": {
          "base_uri": "https://localhost:8080/"
        },
        "id": "lYjOOHzlrB-j",
        "outputId": "020b20a8-5037-4a55-f79b-49a4a0d0de9a"
      },
      "source": [
        "print(optimal_policy_score)"
      ],
      "execution_count": 21,
      "outputs": [
        {
          "output_type": "stream",
          "name": "stdout",
          "text": [
            "0.77\n"
          ]
        }
      ]
    },
    {
      "cell_type": "markdown",
      "metadata": {
        "id": "4JxyNSmhrB-j"
      },
      "source": [
        "По сравнению со \"случайным\" агентом, который доходил до цели в 2 случаях из 100, наша новая политика позволяет добирться до цели в ~70% эпизодов."
      ]
    },
    {
      "cell_type": "markdown",
      "metadata": {
        "id": "LL0mKTRWrB-j"
      },
      "source": [
        "## Policy Iteration"
      ]
    },
    {
      "cell_type": "markdown",
      "metadata": {
        "id": "BFpzQXlTrB-j"
      },
      "source": [
        "Вспомним, что из себя представляет алгоритм Policy Iteration\n",
        "![](img/policy_iteration.png)\n",
        "\n"
      ]
    },
    {
      "cell_type": "markdown",
      "metadata": {
        "id": "dMGkJ54brB-k"
      },
      "source": [
        "Напишем 2 функции, которые используются в основном цикле алгоритма Policy Iteration согласно псевдокоду."
      ]
    },
    {
      "cell_type": "code",
      "metadata": {
        "id": "GoxHkFhSrB-l"
      },
      "source": [
        "def compute_policy_v(env, policy, gamma=1.0, eps=1e-10):\n",
        "    v = np.zeros(n_states)\n",
        "    # Your code goes here\n",
        "    while True:\n",
        "      prev_v = np.copy(v)\n",
        "\n",
        "      for s in range(n_states):\n",
        "          policy_a = policy[s]\n",
        "          v[s] = 0\n",
        "          for p, s_, r, _ in env.env.P[s][policy_a]:\n",
        "            v[s] += p * (r + gamma * prev_v[s_])\n",
        "\n",
        "      if (np.sum((np.fabs(prev_v - v))) <= eps):\n",
        "          # value converged\n",
        "          break\n",
        "    return v"
      ],
      "execution_count": 22,
      "outputs": []
    },
    {
      "cell_type": "code",
      "metadata": {
        "id": "RnQ_YyXOrB-l"
      },
      "source": [
        "def extract_policy(v, gamma=1.0):\n",
        "    policy = np.zeros(n_states)\n",
        "    # Your code goes here\n",
        "    for s in range(n_states):\n",
        "        q_sa = np.zeros(n_actions)\n",
        "        for a in range(n_actions):\n",
        "            q_sa[a] = sum([p * (r + gamma * v[s_]) for p, s_, r, _ in  env.env.P[s][a]])\n",
        "        policy[s] = np.argmax(q_sa)\n",
        "    return policy"
      ],
      "execution_count": 23,
      "outputs": []
    },
    {
      "cell_type": "markdown",
      "metadata": {
        "id": "1Z0tz635rB-k"
      },
      "source": [
        "Теперь запишем основной цикл алгоритма, который вернет нам оптимальную политику."
      ]
    },
    {
      "cell_type": "code",
      "metadata": {
        "id": "vF24dYENrB-k"
      },
      "source": [
        "def policy_iteration(env, gamma=1.0, max_iterations = 200000):\n",
        "    policy = np.random.choice(n_actions, size=(n_states))  # initialize a random policy\n",
        "    for i in range(max_iterations):\n",
        "        old_policy_v = compute_policy_v(env, policy, gamma)\n",
        "        new_policy = extract_policy(old_policy_v, gamma)\n",
        "        if (np.all(policy == new_policy)):\n",
        "            print ('Policy-Iteration converged at step %d.' %(i+1))\n",
        "            break\n",
        "        policy = new_policy\n",
        "    return policy"
      ],
      "execution_count": 24,
      "outputs": []
    },
    {
      "cell_type": "markdown",
      "metadata": {
        "id": "eLO7xE3urB-l"
      },
      "source": [
        "Теперь мы также можем найти оптимальную V-функцию, извлечь из нее оптимальную политику и оцениь ее."
      ]
    },
    {
      "cell_type": "code",
      "metadata": {
        "id": "2TOzVMaMrB-l",
        "colab": {
          "base_uri": "https://localhost:8080/"
        },
        "outputId": "cfcaa4d3-836f-4833-b0a0-c1de308c838a"
      },
      "source": [
        "optimal_policy = policy_iteration(env)\n",
        "optimal_policy_score = evaluate_policy(env, optimal_policy)"
      ],
      "execution_count": 25,
      "outputs": [
        {
          "output_type": "stream",
          "name": "stdout",
          "text": [
            "Policy-Iteration converged at step 7.\n"
          ]
        }
      ]
    },
    {
      "cell_type": "code",
      "metadata": {
        "id": "dqvQyBPnrB-l",
        "colab": {
          "base_uri": "https://localhost:8080/"
        },
        "outputId": "bae23d3b-9dd2-4b87-e5cb-6ddaff0ce736"
      },
      "source": [
        "print(optimal_policy.reshape(4,4))"
      ],
      "execution_count": 26,
      "outputs": [
        {
          "output_type": "stream",
          "name": "stdout",
          "text": [
            "[[0. 3. 3. 3.]\n",
            " [0. 0. 0. 0.]\n",
            " [3. 1. 0. 0.]\n",
            " [0. 2. 1. 0.]]\n"
          ]
        }
      ]
    },
    {
      "cell_type": "code",
      "metadata": {
        "id": "HkOoOmHqrB-l",
        "colab": {
          "base_uri": "https://localhost:8080/"
        },
        "outputId": "ff594641-acf6-42ed-b601-c81030ec406f"
      },
      "source": [
        "print(optimal_policy_score)"
      ],
      "execution_count": 27,
      "outputs": [
        {
          "output_type": "stream",
          "name": "stdout",
          "text": [
            "0.77\n"
          ]
        }
      ]
    },
    {
      "cell_type": "markdown",
      "source": [
        "![](https://drive.google.com/uc?export=view&id=1OlzVdezDCeeNmcEl1VQg1DmlqkA6CCBZ)"
      ],
      "metadata": {
        "id": "6FssGcsspd3Y"
      }
    }
  ]
}