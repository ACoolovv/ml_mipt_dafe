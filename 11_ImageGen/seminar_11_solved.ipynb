{
 "cells": [
  {
   "cell_type": "markdown",
   "id": "06e07755-4668-4e9a-a63c-879356fa751c",
   "metadata": {
    "id": "06e07755-4668-4e9a-a63c-879356fa751c"
   },
   "source": [
    "# Семинар № 11 - VAE"
   ]
  },
  {
   "cell_type": "markdown",
   "id": "50bf4f9c-e73a-4039-a7c9-bf3244a20642",
   "metadata": {
    "id": "50bf4f9c-e73a-4039-a7c9-bf3244a20642"
   },
   "source": [
    "# Imports "
   ]
  },
  {
   "cell_type": "code",
   "execution_count": null,
   "id": "V8fscA5e7IOA",
   "metadata": {
    "colab": {
     "base_uri": "https://localhost:8080/"
    },
    "executionInfo": {
     "elapsed": 7433,
     "status": "ok",
     "timestamp": 1648541390917,
     "user": {
      "displayName": "Никита Гришин",
      "userId": "00970267534020248746"
     },
     "user_tz": -180
    },
    "id": "V8fscA5e7IOA",
    "outputId": "5a15f30c-630b-4309-cc9c-403e640b2b8c"
   },
   "outputs": [
    {
     "name": "stdout",
     "output_type": "stream",
     "text": [
      "\u001b[K     |████████████████████████████████| 117 kB 5.4 MB/s \n",
      "\u001b[K     |████████████████████████████████| 948 kB 43.0 MB/s \n",
      "\u001b[?25h  Building wheel for albumentations (setup.py) ... \u001b[?25l\u001b[?25hdone\n",
      "albumentations==0.4.6 is successfully installed\n"
     ]
    }
   ],
   "source": [
    "# !pip install -q -U albumentations\n",
    "# !pip install --upgrade -q albumentations==0.4.6\n",
    "# !echo \"$(pip freeze | grep albumentations) is successfully installed\""
   ]
  },
  {
   "cell_type": "code",
   "execution_count": 2,
   "id": "8c31c38e-d5ab-464e-bd7b-fab51fc0a15f",
   "metadata": {
    "id": "8c31c38e-d5ab-464e-bd7b-fab51fc0a15f"
   },
   "outputs": [],
   "source": [
    "import os\n",
    "from pathlib import Path\n",
    "import random\n",
    "import typing as tp\n",
    "from time import gmtime, strftime\n",
    "\n",
    "import yaml\n",
    "from tqdm import tqdm\n",
    "from cv2 import erode\n",
    "import numpy as np\n",
    "import matplotlib.pyplot as plt\n",
    "from skimage.io import imread\n",
    "from skimage.transform import rotate, rescale, resize\n"
   ]
  },
  {
   "cell_type": "code",
   "execution_count": 3,
   "id": "5b293c43-1181-4599-a3d0-380a04d3b887",
   "metadata": {
    "collapsed": true,
    "jupyter": {
     "outputs_hidden": true
    }
   },
   "outputs": [
    {
     "data": {
      "text/plain": [
       "[<matplotlib.lines.Line2D at 0x26aac966f90>]"
      ]
     },
     "execution_count": 3,
     "metadata": {},
     "output_type": "execute_result"
    },
    {
     "data": {
      "image/png": "[encoded data removed]",
      "text/plain": [
       "<Figure size 640x480 with 1 Axes>"
      ]
     },
     "metadata": {},
     "output_type": "display_data"
    }
   ],
   "source": [
    "plt.plot([1,2], [1,2])"
   ]
  },
  {
   "cell_type": "code",
   "execution_count": 4,
   "id": "61260348-294c-4a10-bc19-3f8289b72016",
   "metadata": {},
   "outputs": [],
   "source": [
    "import torch\n",
    "import torch.nn as nn\n",
    "import torch.optim as optim\n",
    "from torch.utils.data import Dataset, DataLoader\n",
    "import torchvision\n",
    "\n",
    "import albumentations as A\n",
    "from albumentations.pytorch.transforms import ToTensorV2"
   ]
  },
  {
   "cell_type": "code",
   "execution_count": 5,
   "id": "64850d89-2e8b-426f-a880-3daab2a87d68",
   "metadata": {
    "id": "64850d89-2e8b-426f-a880-3daab2a87d68"
   },
   "outputs": [],
   "source": [
    "def set_seed(seed):\n",
    "    np.random.seed(seed)\n",
    "    random.seed(seed)\n",
    "    torch.manual_seed(seed)\n",
    "    torch.cuda.manual_seed(seed)"
   ]
  },
  {
   "cell_type": "code",
   "execution_count": 6,
   "id": "cd56ec66-93cc-4f96-b31e-b1260519c0f2",
   "metadata": {
    "id": "cd56ec66-93cc-4f96-b31e-b1260519c0f2"
   },
   "outputs": [],
   "source": [
    "set_seed(42)\n",
    "\n",
    "DEVICE = torch.device('cuda:0') if torch.cuda.is_available() else torch.device('cpu')\n",
    "# DEVICE = torch.device('cpu')"
   ]
  },
  {
   "cell_type": "markdown",
   "id": "4cc30937-abbe-4c95-b6a8-ed3ab6d47148",
   "metadata": {
    "id": "4cc30937-abbe-4c95-b6a8-ed3ab6d47148",
    "tags": []
   },
   "source": [
    "# Набор данных\n"
   ]
  },
  {
   "cell_type": "code",
   "execution_count": 7,
   "id": "2624665b-b511-4493-96a8-cf9bd14c3e98",
   "metadata": {
    "colab": {
     "base_uri": "https://localhost:8080/",
     "height": 422,
     "referenced_widgets": [
      "6634f780b244422fb3232f6519fd42b1",
      "b637f1f3b1774c62b30d1fe3decffc8e",
      "a84cfdae5f0f4e338688f971c4a959fa",
      "6761c94b359449dc99f00e6ef2915aa3",
      "9397defd971a44309e2cea8a1f89d96a",
      "7923dfc8d4304f3ca09fac89d634b623",
      "c072a671a9464bd6b115ffadc9237df6",
      "ae042d49c9464ba38eda076cec5dc4cd",
      "56bc745cce6d4682b5040bfa11816168",
      "4506a5306adb4fde926f1d48d66eae04",
      "b00ac173d88f487fb2445f23c4c571dc",
      "2798a1b5c0ac40fa9cf3e87933f185f4",
      "b85b40b836c54fc081d946e2050eb8cf",
      "61a5ba98b2b442a3af93fb84fde107af",
      "a1cc7efadddd44e38ed47ddc9ba488e2",
      "1ce4948da58242678339b2897a622ff3",
      "392a2160b1d148619e23cdb7b8db4487",
      "8262916fe781477a996c3a8c183bb02a",
      "dfb6c4f079e34d1db07d61d698c86344",
      "2dc20605b6ae46a4b4ddf0a47be5dfd1",
      "c61b6718724a4de08b9531956770420b",
      "34bb5a478c7b4029b0bdad8e0c182e18",
      "ca6741eba9184e4ca78d8dff3adbc396",
      "f74403090b52483e987dfba27547d2be",
      "1a69e588de3742a1b53ebb894b04541c",
      "921b99267e6d4371a8b2d2bf36e4b525",
      "c20e9119b3624af198f451936bfb2b29",
      "ab58ac8626be4d21986ec2548ad19f33",
      "c009cd31906a4a48a1dcf8dfb440727c",
      "0d25507bfa934c029188baaf60fcb459",
      "ed8c10386f2b4f49bcbb41b7b6ebebb7",
      "5b37c880b1984dd0bd9546b09455ce73",
      "37601832493a455db0d486b67c97a839",
      "68cb53e0ff04403fae8c2b60324a0f68",
      "e0fdf480c6ac4463a4205c85cf3b0e8d",
      "de31a98967b1472b82e1ee0a21e2f827",
      "a481061564704d1cb70aa80bc12030e7",
      "58aed4bed9ea45b29ae24073bc023370",
      "5b06857a034f4a7690440ae1d95e7d94",
      "fc962a140853490dadfc0cb0fb98437e",
      "40219dbad84c4c058a771e7394816bad",
      "32ba3952b07b40adb086ad9039e0faae",
      "e6cc6df13efb49b39b906b99aad24f6d",
      "cf55447b43b046ed84f5771d17500fb5"
     ]
    },
    "executionInfo": {
     "elapsed": 1842,
     "status": "ok",
     "timestamp": 1648541402553,
     "user": {
      "displayName": "Никита Гришин",
      "userId": "00970267534020248746"
     },
     "user_tz": -180
    },
    "id": "2624665b-b511-4493-96a8-cf9bd14c3e98",
    "outputId": "0c89e522-03cb-4369-dec3-247ce9a865bb"
   },
   "outputs": [],
   "source": [
    "mnist_trainset = torchvision.datasets.MNIST(root='./data', train=True, download=True, transform=None)\n",
    "mnist_validset = torchvision.datasets.MNIST(root='./data', train=False, download=True, transform=None)"
   ]
  },
  {
   "cell_type": "code",
   "execution_count": 8,
   "id": "3ee4e4cc-7a6f-48e4-ac45-60e351a7e44e",
   "metadata": {
    "colab": {
     "base_uri": "https://localhost:8080/"
    },
    "executionInfo": {
     "elapsed": 5,
     "status": "ok",
     "timestamp": 1648541402553,
     "user": {
      "displayName": "Никита Гришин",
      "userId": "00970267534020248746"
     },
     "user_tz": -180
    },
    "id": "3ee4e4cc-7a6f-48e4-ac45-60e351a7e44e",
    "outputId": "5d00e5d5-aa4d-4061-f5ce-39aec5345d45"
   },
   "outputs": [
    {
     "data": {
      "text/plain": [
       "(60000, 10000)"
      ]
     },
     "execution_count": 8,
     "metadata": {},
     "output_type": "execute_result"
    }
   ],
   "source": [
    "len(mnist_trainset), len(mnist_validset)"
   ]
  },
  {
   "cell_type": "code",
   "execution_count": 9,
   "id": "852d6e97-f358-489f-ab94-f7d0f9b88ab7",
   "metadata": {
    "id": "852d6e97-f358-489f-ab94-f7d0f9b88ab7"
   },
   "outputs": [],
   "source": [
    "img, label = mnist_trainset[4]"
   ]
  },
  {
   "cell_type": "code",
   "execution_count": 10,
   "id": "0bc5a11e-b4c2-4088-b44f-f35bdcd32735",
   "metadata": {
    "colab": {
     "base_uri": "https://localhost:8080/",
     "height": 282
    },
    "executionInfo": {
     "elapsed": 262,
     "status": "ok",
     "timestamp": 1648541403998,
     "user": {
      "displayName": "Никита Гришин",
      "userId": "00970267534020248746"
     },
     "user_tz": -180
    },
    "id": "0bc5a11e-b4c2-4088-b44f-f35bdcd32735",
    "outputId": "637bc2ae-4fb3-4e30-fd88-dae734d5e2fe"
   },
   "outputs": [
    {
     "data": {
      "text/plain": [
       "<matplotlib.image.AxesImage at 0x26ab1c2aff0>"
      ]
     },
     "execution_count": 10,
     "metadata": {},
     "output_type": "execute_result"
    },
    {
     "data": {
      "image/png": "[encoded data removed]",
      "text/plain": [
       "<Figure size 640x480 with 1 Axes>"
      ]
     },
     "metadata": {},
     "output_type": "display_data"
    }
   ],
   "source": [
    "plt.imshow(np.array(img))"
   ]
  },
  {
   "cell_type": "markdown",
   "id": "f2192dcc-051d-467b-a561-7395bdbc9411",
   "metadata": {
    "id": "f2192dcc-051d-467b-a561-7395bdbc9411"
   },
   "source": [
    "## Create dataset"
   ]
  },
  {
   "cell_type": "code",
   "execution_count": 11,
   "id": "1f7f1b42-e185-4d4e-9fae-c552a79d68cc",
   "metadata": {
    "id": "1f7f1b42-e185-4d4e-9fae-c552a79d68cc"
   },
   "outputs": [],
   "source": [
    "class MNISTDataset(Dataset):\n",
    "    def __init__(self, data,\n",
    "                 transforms: tp.Optional[A.BasicTransform] = None):\n",
    "        self.data = data\n",
    "        self.transforms = transforms\n",
    "\n",
    "    def __len__(self) -> int:\n",
    "        return len(self.data)\n",
    "\n",
    "    def __getitem__(self, idx: int) -> dict:\n",
    "        image, label = self.data[idx]\n",
    "        image = np.array(image)\n",
    "        \n",
    "        # check for dimensions            \n",
    "        if image.ndim == 2:\n",
    "            image = image[..., np.newaxis]\n",
    "            \n",
    "        result = {\"image\": image}\n",
    "\n",
    "        if self.transforms is not None:\n",
    "            result = self.transforms(**result)\n",
    "            \n",
    "        image = result['image']\n",
    "        label = torch.tensor(label).long()\n",
    "\n",
    "        return image, label"
   ]
  },
  {
   "cell_type": "markdown",
   "id": "f42b1529-7e1b-4bbf-bbe2-2e9a50ba5c5e",
   "metadata": {
    "id": "f42b1529-7e1b-4bbf-bbe2-2e9a50ba5c5e"
   },
   "source": [
    "## Create augs"
   ]
  },
  {
   "cell_type": "code",
   "execution_count": 12,
   "id": "9b1ab3ba-d518-44f6-a221-afb50790a285",
   "metadata": {
    "id": "9b1ab3ba-d518-44f6-a221-afb50790a285"
   },
   "outputs": [],
   "source": [
    "def pre_transform() -> A.BasicTransform:\n",
    "    result = []\n",
    "    return A.Compose(result)\n",
    "\n",
    "\n",
    "def augmentations() -> A.BasicTransform:\n",
    "    result = [\n",
    "        # A.GaussNoise(),\n",
    "    ]\n",
    "    return A.Compose(result)\n",
    "\n",
    "\n",
    "def post_transform() -> A.BasicTransform:\n",
    "    return A.Compose([\n",
    "        A.Normalize(mean=0, \n",
    "                    std=1,\n",
    "                    max_pixel_value=255),\n",
    "        ToTensorV2()\n",
    "    ])"
   ]
  },
  {
   "cell_type": "code",
   "execution_count": 13,
   "id": "c72a52b3-0fff-424e-aef6-5e45f18aa050",
   "metadata": {
    "id": "c72a52b3-0fff-424e-aef6-5e45f18aa050",
    "tags": []
   },
   "outputs": [],
   "source": [
    "# Create train pipeline\n",
    "train_transformation = A.Compose([\n",
    "    pre_transform(), augmentations(), post_transform()\n",
    "])\n",
    "\n",
    "\n",
    "# Create valid pipeline\n",
    "valid_transformation = A.Compose([\n",
    "    pre_transform(), post_transform()\n",
    "])  "
   ]
  },
  {
   "cell_type": "markdown",
   "id": "6534e59e-8918-41a8-bcbd-1d8733735576",
   "metadata": {
    "id": "6534e59e-8918-41a8-bcbd-1d8733735576"
   },
   "source": [
    "### Check augs"
   ]
  },
  {
   "cell_type": "code",
   "execution_count": 14,
   "id": "47d8461c-db9b-4452-bbc2-1930c88fe747",
   "metadata": {
    "colab": {
     "base_uri": "https://localhost:8080/",
     "height": 440
    },
    "executionInfo": {
     "elapsed": 747,
     "status": "ok",
     "timestamp": 1648541415697,
     "user": {
      "displayName": "Никита Гришин",
      "userId": "00970267534020248746"
     },
     "user_tz": -180
    },
    "id": "47d8461c-db9b-4452-bbc2-1930c88fe747",
    "outputId": "c0eeab90-eb36-4092-c014-37e4adde9bde"
   },
   "outputs": [
    {
     "data": {
      "image/png": "[encoded data removed]",
      "text/plain": [
       "<Figure size 960x720 with 4 Axes>"
      ]
     },
     "metadata": {},
     "output_type": "display_data"
    }
   ],
   "source": [
    "_, ax = plt.subplots(2, 2, figsize=(6.4 * 1.5, 4.8 * 1.5))\n",
    "\n",
    "for i in range(4):\n",
    "    sample_idx = np.random.randint(0, len(mnist_trainset), 1)[0]\n",
    "    sample_image, _ = mnist_trainset[sample_idx]\n",
    "    sample_image = np.array(sample_image)[..., np.newaxis]\n",
    "    aug_image = train_transformation(image=sample_image)[\"image\"].numpy()\n",
    "    ax[i % 2][i // 2].imshow(aug_image[0])\n",
    "    \n",
    "plt.show()"
   ]
  },
  {
   "cell_type": "markdown",
   "id": "adfef722-142d-4405-a91a-487772decb82",
   "metadata": {
    "id": "adfef722-142d-4405-a91a-487772decb82"
   },
   "source": [
    "## Make DataLoader "
   ]
  },
  {
   "cell_type": "code",
   "execution_count": 15,
   "id": "44c485f4-e8fc-4045-8d12-742b0c971b45",
   "metadata": {
    "id": "44c485f4-e8fc-4045-8d12-742b0c971b45"
   },
   "outputs": [],
   "source": [
    "batch_size = 128\n",
    "num_workers = 0  # num_workers = 0 for local notebook on win \n",
    "\n",
    "train_dataset = MNISTDataset(mnist_trainset, train_transformation)\n",
    "train_loader = DataLoader(\n",
    "    train_dataset, \n",
    "    shuffle=True,\n",
    "    batch_size=batch_size,\n",
    "    num_workers=num_workers,\n",
    "    drop_last=True,\n",
    ")\n",
    "\n",
    "valid_dataset = MNISTDataset(mnist_validset, valid_transformation) \n",
    "valid_loader = DataLoader(\n",
    "    valid_dataset, \n",
    "    shuffle=False,\n",
    "    batch_size=batch_size,\n",
    "    num_workers=num_workers,\n",
    "    drop_last=True,\n",
    ")"
   ]
  },
  {
   "cell_type": "code",
   "execution_count": 16,
   "id": "005beade-ec6f-45bd-a81e-f45a3b3fbdb6",
   "metadata": {
    "colab": {
     "base_uri": "https://localhost:8080/"
    },
    "executionInfo": {
     "elapsed": 389,
     "status": "ok",
     "timestamp": 1648541421901,
     "user": {
      "displayName": "Никита Гришин",
      "userId": "00970267534020248746"
     },
     "user_tz": -180
    },
    "id": "005beade-ec6f-45bd-a81e-f45a3b3fbdb6",
    "outputId": "b9255b19-fe82-4c8c-913e-36f6d81edc46"
   },
   "outputs": [
    {
     "name": "stdout",
     "output_type": "stream",
     "text": [
      "Image batch shape: torch.Size([128, 1, 28, 28])\n"
     ]
    }
   ],
   "source": [
    "image, label = next(iter(train_loader))\n",
    "\n",
    "print('Image batch shape:', image.shape)"
   ]
  },
  {
   "cell_type": "markdown",
   "id": "0544d921-2089-4772-840d-eaf54a6b3936",
   "metadata": {
    "id": "0544d921-2089-4772-840d-eaf54a6b3936"
   },
   "source": [
    "# Create model "
   ]
  },
  {
   "cell_type": "code",
   "execution_count": 17,
   "id": "d2531718-f44d-41c9-808b-9bdd1252f30b",
   "metadata": {
    "id": "d2531718-f44d-41c9-808b-9bdd1252f30b"
   },
   "outputs": [],
   "source": [
    "class Encoder(nn.Module):\n",
    "    def __init__(self, latent_size: int = 2):\n",
    "        super().__init__()\n",
    "        self.latent_size = latent_size\n",
    "\n",
    "        # Create encoder model\n",
    "        self.feature_extractor = nn.Sequential(\n",
    "            nn.Conv2d(1, 3, kernel_size=3, padding=1),\n",
    "            nn.BatchNorm2d(3),\n",
    "            nn.LeakyReLU(),\n",
    "            nn.MaxPool2d(kernel_size=2, stride=2),\n",
    "            nn.Conv2d(3, 16, kernel_size=3, padding=1),\n",
    "            nn.BatchNorm2d(16),\n",
    "            nn.LeakyReLU(),\n",
    "            nn.MaxPool2d(kernel_size=2, stride=2),\n",
    "            nn.Conv2d(16, 128, kernel_size=3, padding=1),\n",
    "            nn.BatchNorm2d(128),\n",
    "            nn.LeakyReLU(),\n",
    "            nn.AdaptiveMaxPool2d((1, 1)),\n",
    "            nn.Flatten()\n",
    "        )\n",
    "        self.fc_mean = nn.Linear(128, latent_size)\n",
    "        self.fc_var = nn.Linear(128, latent_size)\n",
    "        \n",
    "    def forward(self, images: torch.Tensor) -> tp.Tuple[torch.Tensor, torch.Tensor]:\n",
    "        features = self.feature_extractor(images)\n",
    "        mean = self.fc_mean(features)\n",
    "        log_var = self.fc_var(features)\n",
    "\n",
    "        return mean, log_var"
   ]
  },
  {
   "cell_type": "code",
   "execution_count": 18,
   "id": "b298b759-49ee-488e-b9ba-53096c201ffc",
   "metadata": {
    "id": "b298b759-49ee-488e-b9ba-53096c201ffc"
   },
   "outputs": [],
   "source": [
    "class Decoder(nn.Module):\n",
    "    def __init__(self, latent_size: int = 2):\n",
    "        super().__init__()\n",
    "        self.latent_size = latent_size\n",
    "\n",
    "        # Create Decoder model!\n",
    "        self.map_generator = nn.Sequential(\n",
    "            nn.Linear(latent_size, 128 * 49),\n",
    "        )\n",
    "        self.deconv = nn.Sequential(\n",
    "            self.make_up_layer_(128, 64), # 7 -> 14\n",
    "            self.make_up_layer_(64, 16), # 14 -> 28\n",
    "        )\n",
    "        self.output = nn.Sequential(\n",
    "            nn.Conv2d(16, 1, 3, padding=1),\n",
    "            nn.Tanh()\n",
    "        )\n",
    "        \n",
    "    def make_up_layer_(self, in_channels: int, out_channels: int) -> torch.Tensor:\n",
    "        return nn.Sequential(\n",
    "            nn.ConvTranspose2d(in_channels, out_channels, \n",
    "                               kernel_size=3, padding=1,\n",
    "                               output_padding=1, stride=2),\n",
    "            nn.BatchNorm2d(out_channels),\n",
    "            nn.Dropout(0.1),\n",
    "            nn.LeakyReLU(0.01)\n",
    "        )\n",
    "            \n",
    "    def forward(self, points: torch.Tensor) -> torch.Tensor:\n",
    "        feature_map = self.map_generator(points)\n",
    "        feature_map = feature_map.view(feature_map.size(0), -1, 7, 7)\n",
    "        \n",
    "        feature_map = self.deconv(feature_map)\n",
    "        \n",
    "        return self.output(feature_map)"
   ]
  },
  {
   "cell_type": "code",
   "execution_count": 19,
   "id": "9cf054d7-90c9-427f-b56b-7357fcb7fefd",
   "metadata": {
    "id": "9cf054d7-90c9-427f-b56b-7357fcb7fefd"
   },
   "outputs": [],
   "source": [
    "LOG_SCALE_MAX = 2\n",
    "LOG_SCALE_MIN = -10\n",
    "\n",
    "def normal_sample(loc: torch.Tensor, log_scale: torch.Tensor) -> torch.Tensor:\n",
    "    scale = torch.exp(0.5 * log_scale)\n",
    "    return loc + scale * torch.randn_like(scale)\n",
    "\n",
    "\n",
    "class VAE(nn.Module):\n",
    "    def __init__(self, latent_size: int = 2):\n",
    "        super().__init__()\n",
    "\n",
    "        self.encoder = Encoder(latent_size)\n",
    "        self.decoder = Decoder(latent_size)\n",
    "        \n",
    "    def forward(self, x: torch.Tensor):\n",
    "        mean, log_var = self.encoder(x)  # get mean and log_var for sampling\n",
    "        log_var = torch.clamp(log_var, LOG_SCALE_MIN, LOG_SCALE_MAX)\n",
    "\n",
    "        z_ = normal_sample(mean, log_var) if self.training else mean\n",
    "        x_ = self.decoder(z_)  # recreate object from z_\n",
    "\n",
    "        return x_, mean, log_var"
   ]
  },
  {
   "cell_type": "code",
   "execution_count": 20,
   "id": "4b557d39-ca26-4a62-b732-7d7be4ce75a2",
   "metadata": {
    "id": "4b557d39-ca26-4a62-b732-7d7be4ce75a2"
   },
   "outputs": [],
   "source": [
    "latent_size = 16\n",
    "model = VAE(latent_size).to(DEVICE)"
   ]
  },
  {
   "cell_type": "code",
   "execution_count": 21,
   "id": "9d80edfa-2071-4cc8-ad33-403550147d2c",
   "metadata": {
    "id": "9d80edfa-2071-4cc8-ad33-403550147d2c"
   },
   "outputs": [],
   "source": [
    "x = torch.ones((256, 1, 28, 28)).to(DEVICE)\n",
    "\n",
    "x_hat, mean, log_var = model(x)"
   ]
  },
  {
   "cell_type": "code",
   "execution_count": 22,
   "id": "48b1baa3-424c-4ca5-b39f-a7a7d48131ed",
   "metadata": {
    "colab": {
     "base_uri": "https://localhost:8080/"
    },
    "executionInfo": {
     "elapsed": 2,
     "status": "ok",
     "timestamp": 1648543877111,
     "user": {
      "displayName": "Никита Гришин",
      "userId": "00970267534020248746"
     },
     "user_tz": -180
    },
    "id": "48b1baa3-424c-4ca5-b39f-a7a7d48131ed",
    "outputId": "1522b679-d3ba-4d7d-aabe-0e3ae7448d8b"
   },
   "outputs": [
    {
     "data": {
      "text/plain": [
       "(torch.Size([256, 1, 28, 28]), torch.Size([256, 16]), torch.Size([256, 16]))"
      ]
     },
     "execution_count": 22,
     "metadata": {},
     "output_type": "execute_result"
    }
   ],
   "source": [
    "x_hat.shape, mean.shape, log_var.shape"
   ]
  },
  {
   "cell_type": "markdown",
   "id": "e90019ff-a4ae-43e9-9d58-76fc32771741",
   "metadata": {
    "id": "e90019ff-a4ae-43e9-9d58-76fc32771741",
    "tags": []
   },
   "source": [
    "## Define loss"
   ]
  },
  {
   "cell_type": "code",
   "execution_count": 23,
   "id": "5b3bfee2-a83a-47ad-864f-90266c34ce1c",
   "metadata": {
    "id": "5b3bfee2-a83a-47ad-864f-90266c34ce1c"
   },
   "outputs": [],
   "source": [
    "BCE_loss = nn.BCELoss()\n",
    "\n",
    "def KLD_loss(mean, log_var):\n",
    "     return (-0.5 * torch.sum(1 + log_var - mean.pow(2) - log_var.exp(), dim=1)).mean()"
   ]
  },
  {
   "cell_type": "code",
   "execution_count": 24,
   "id": "04ed9416-9b6c-4386-b8e6-4c559aa5455a",
   "metadata": {
    "colab": {
     "base_uri": "https://localhost:8080/"
    },
    "executionInfo": {
     "elapsed": 436,
     "status": "ok",
     "timestamp": 1648543878219,
     "user": {
      "displayName": "Никита Гришин",
      "userId": "00970267534020248746"
     },
     "user_tz": -180
    },
    "id": "04ed9416-9b6c-4386-b8e6-4c559aa5455a",
    "outputId": "1a300702-62b7-4de3-ef89-34e618df8fc9"
   },
   "outputs": [
    {
     "data": {
      "text/plain": [
       "tensor(23.2205, device='cuda:0', grad_fn=<MeanBackward0>)"
      ]
     },
     "execution_count": 24,
     "metadata": {},
     "output_type": "execute_result"
    }
   ],
   "source": [
    "KLD_loss(mean, log_var)"
   ]
  },
  {
   "cell_type": "code",
   "execution_count": 25,
   "id": "183626ab-9153-4b2d-9142-f807074988ad",
   "metadata": {
    "colab": {
     "base_uri": "https://localhost:8080/"
    },
    "executionInfo": {
     "elapsed": 5,
     "status": "ok",
     "timestamp": 1648543878219,
     "user": {
      "displayName": "Никита Гришин",
      "userId": "00970267534020248746"
     },
     "user_tz": -180
    },
    "id": "183626ab-9153-4b2d-9142-f807074988ad",
    "outputId": "a916498c-a6e4-4870-8ace-9c51970b6ce2"
   },
   "outputs": [
    {
     "data": {
      "text/plain": [
       "tensor(0.6375, device='cuda:0', grad_fn=<BinaryCrossEntropyBackward0>)"
      ]
     },
     "execution_count": 25,
     "metadata": {},
     "output_type": "execute_result"
    }
   ],
   "source": [
    "BCE_loss(x_hat.sigmoid(), x)"
   ]
  },
  {
   "cell_type": "code",
   "execution_count": 26,
   "id": "35be4ae5-d0bd-4ffd-96a5-27625602722c",
   "metadata": {
    "id": "35be4ae5-d0bd-4ffd-96a5-27625602722c"
   },
   "outputs": [],
   "source": [
    "lr = 1e-3\n",
    "optimizer = torch.optim.Adam(model.parameters(), lr=lr, weight_decay=1e-3)"
   ]
  },
  {
   "cell_type": "markdown",
   "id": "da0d2ad5-430a-4ea1-93a9-48f7bad0cdf2",
   "metadata": {
    "id": "da0d2ad5-430a-4ea1-93a9-48f7bad0cdf2"
   },
   "source": [
    "## Train loop"
   ]
  },
  {
   "cell_type": "code",
   "execution_count": 27,
   "id": "d7522731-c3b7-4440-9a7f-4a330b98bd3f",
   "metadata": {
    "id": "d7522731-c3b7-4440-9a7f-4a330b98bd3f"
   },
   "outputs": [],
   "source": [
    "epochs = 2"
   ]
  },
  {
   "cell_type": "code",
   "execution_count": 28,
   "id": "5b5d11d9-3540-4670-8f58-35b59348063e",
   "metadata": {
    "colab": {
     "base_uri": "https://localhost:8080/"
    },
    "executionInfo": {
     "elapsed": 316178,
     "status": "ok",
     "timestamp": 1648544582438,
     "user": {
      "displayName": "Никита Гришин",
      "userId": "00970267534020248746"
     },
     "user_tz": -180
    },
    "id": "5b5d11d9-3540-4670-8f58-35b59348063e",
    "outputId": "f91d1c63-d1e1-4206-eb1b-71b953905939"
   },
   "outputs": [
    {
     "name": "stdout",
     "output_type": "stream",
     "text": [
      "Start training VAE...\n"
     ]
    },
    {
     "name": "stderr",
     "output_type": "stream",
     "text": [
      "Loss: 0.4524: 100%|██████████████████████████████████████████████████████████████████| 468/468 [00:07<00:00, 65.72it/s]\n"
     ]
    },
    {
     "name": "stdout",
     "output_type": "stream",
     "text": [
      "\tEpoch 1 complete! \tAverage Loss:  0.005219700922232273\n"
     ]
    },
    {
     "name": "stderr",
     "output_type": "stream",
     "text": [
      "Loss: 0.4386: 100%|██████████████████████████████████████████████████████████████████| 468/468 [00:07<00:00, 64.71it/s]"
     ]
    },
    {
     "name": "stdout",
     "output_type": "stream",
     "text": [
      "\tEpoch 2 complete! \tAverage Loss:  0.003493251839385426\n",
      "Finish!!\n"
     ]
    },
    {
     "name": "stderr",
     "output_type": "stream",
     "text": [
      "\n"
     ]
    }
   ],
   "source": [
    "print(\"Start training VAE...\")\n",
    "model.train()\n",
    "\n",
    "for epoch in range(epochs):\n",
    "    overall_loss = 0\n",
    "    pbar = tqdm(enumerate(train_loader), total=len(train_loader))\n",
    "    for batch_idx, (x, _) in pbar:\n",
    "        x = x.to(DEVICE)\n",
    "\n",
    "        optimizer.zero_grad()\n",
    "\n",
    "        x_hat, mean, log_var = model(x)\n",
    "        loss_bce = BCE_loss(x_hat.sigmoid(), x)\n",
    "        loss_kld = KLD_loss(mean, log_var)\n",
    "        loss = loss_bce + loss_kld\n",
    "        \n",
    "        overall_loss += loss.item()\n",
    "        \n",
    "        loss.backward()\n",
    "        optimizer.step()\n",
    "\n",
    "        log_line = f'Loss: {loss.detach().cpu().data:.4f}'\n",
    "        pbar.set_description(log_line)\n",
    "\n",
    "        \n",
    "    print(\"\\tEpoch\", epoch + 1, \"complete!\", \"\\tAverage Loss: \", overall_loss / (batch_idx * batch_size))\n",
    "    \n",
    "print(\"Finish!!\")"
   ]
  },
  {
   "cell_type": "markdown",
   "id": "d071e786-904c-46b9-80ef-86f13319dd38",
   "metadata": {
    "id": "d071e786-904c-46b9-80ef-86f13319dd38"
   },
   "source": [
    "## Generate images"
   ]
  },
  {
   "cell_type": "code",
   "execution_count": 29,
   "id": "fed8f3ea-ed23-4c08-a0a9-c8fba367388e",
   "metadata": {
    "id": "fed8f3ea-ed23-4c08-a0a9-c8fba367388e"
   },
   "outputs": [],
   "source": [
    "model.eval()\n",
    "\n",
    "with torch.no_grad():\n",
    "    for batch_idx, (x, _) in enumerate(valid_loader):\n",
    "        x = x.to(DEVICE)\n",
    "    \n",
    "        x_hat, _, _ = model(x)\n",
    "\n",
    "        break"
   ]
  },
  {
   "cell_type": "code",
   "execution_count": 30,
   "id": "7abb8161-5c34-4b27-a647-71f370bf18f2",
   "metadata": {
    "id": "7abb8161-5c34-4b27-a647-71f370bf18f2"
   },
   "outputs": [],
   "source": [
    "def show_image(x, idx):\n",
    "\n",
    "    fig = plt.figure()\n",
    "    plt.imshow(x[idx][0].cpu().numpy())"
   ]
  },
  {
   "cell_type": "code",
   "execution_count": 31,
   "id": "951f8c36-0bc9-4f40-887e-73767c96aa0f",
   "metadata": {
    "colab": {
     "base_uri": "https://localhost:8080/",
     "height": 265
    },
    "executionInfo": {
     "elapsed": 788,
     "status": "ok",
     "timestamp": 1648544168961,
     "user": {
      "displayName": "Никита Гришин",
      "userId": "00970267534020248746"
     },
     "user_tz": -180
    },
    "id": "951f8c36-0bc9-4f40-887e-73767c96aa0f",
    "outputId": "26a2b247-02a6-4c7d-d0dd-2b91e69bae72"
   },
   "outputs": [
    {
     "data": {
      "image/png": "[encoded data removed]",
      "text/plain": [
       "<Figure size 640x480 with 1 Axes>"
      ]
     },
     "metadata": {},
     "output_type": "display_data"
    }
   ],
   "source": [
    "show_image(x, idx=0)"
   ]
  },
  {
   "cell_type": "code",
   "execution_count": 47,
   "id": "804cdb63-fe7c-4d8e-95c6-ac5c17ef7307",
   "metadata": {
    "id": "804cdb63-fe7c-4d8e-95c6-ac5c17ef7307"
   },
   "outputs": [],
   "source": [
    "with torch.no_grad():\n",
    "    noise = torch.randn(24, latent_size).to(DEVICE)\n",
    "    generated_images = model.decoder(noise)"
   ]
  },
  {
   "cell_type": "code",
   "execution_count": 48,
   "id": "c76db4ce-f7f2-4398-be22-308591683910",
   "metadata": {
    "colab": {
     "base_uri": "https://localhost:8080/",
     "height": 265
    },
    "executionInfo": {
     "elapsed": 8,
     "status": "ok",
     "timestamp": 1648544231432,
     "user": {
      "displayName": "Никита Гришин",
      "userId": "00970267534020248746"
     },
     "user_tz": -180
    },
    "id": "c76db4ce-f7f2-4398-be22-308591683910",
    "outputId": "992812b3-4d85-497f-f8e3-8c0e90f7b328"
   },
   "outputs": [
    {
     "data": {
      "image/png": "[encoded data removed]",
      "text/plain": [
       "<Figure size 640x480 with 1 Axes>"
      ]
     },
     "metadata": {},
     "output_type": "display_data"
    }
   ],
   "source": [
    "show_image(generated_images, idx=0)"
   ]
  },
  {
   "cell_type": "code",
   "execution_count": 45,
   "id": "c286d53e-bf24-4bc3-8139-859c17e72e3b",
   "metadata": {
    "id": "c286d53e-bf24-4bc3-8139-859c17e72e3b"
   },
   "outputs": [],
   "source": [
    "with torch.no_grad():\n",
    "    noise = torch.randn(12, 1, 28, 28).to(DEVICE)\n",
    "    generated_images, _, _ = model(noise)"
   ]
  },
  {
   "cell_type": "code",
   "execution_count": 46,
   "id": "fWaOR4iMyFQM",
   "metadata": {
    "colab": {
     "base_uri": "https://localhost:8080/",
     "height": 265
    },
    "executionInfo": {
     "elapsed": 5,
     "status": "ok",
     "timestamp": 1648544187774,
     "user": {
      "displayName": "Никита Гришин",
      "userId": "00970267534020248746"
     },
     "user_tz": -180
    },
    "id": "fWaOR4iMyFQM",
    "outputId": "123cf721-ad45-45a0-ec7b-81144115c81a"
   },
   "outputs": [
    {
     "data": {
      "image/png": "[encoded data removed]",
      "text/plain": [
       "<Figure size 640x480 with 1 Axes>"
      ]
     },
     "metadata": {},
     "output_type": "display_data"
    }
   ],
   "source": [
    "show_image(generated_images, idx=4)"
   ]
  },
  {
   "cell_type": "code",
   "execution_count": null,
   "id": "QXyhICrY3F59",
   "metadata": {
    "id": "QXyhICrY3F59"
   },
   "outputs": [],
   "source": []
  }
 ],
 "metadata": {
  "colab": {
   "collapsed_sections": [],
   "name": "seminar_07_solved.ipynb",
   "provenance": []
  },
  "kernelspec": {
   "display_name": "Python 3 (ipykernel)",
   "language": "python",
   "name": "python3"
  },
  "language_info": {
   "codemirror_mode": {
    "name": "ipython",
    "version": 3
   },
   "file_extension": ".py",
   "mimetype": "text/x-python",
   "name": "python",
   "nbconvert_exporter": "python",
   "pygments_lexer": "ipython3",
   "version": "3.12.3"
  },
  "widgets": {
   "application/vnd.jupyter.widget-state+json": {
    "0d25507bfa934c029188baaf60fcb459": {
     "model_module": "@jupyter-widgets/base",
     "model_module_version": "1.2.0",
     "model_name": "LayoutModel",
     "state": {
      "_model_module": "@jupyter-widgets/base",
      "_model_module_version": "1.2.0",
      "_model_name": "LayoutModel",
      "_view_count": null,
      "_view_module": "@jupyter-widgets/base",
      "_view_module_version": "1.2.0",
      "_view_name": "LayoutView",
      "align_content": null,
      "align_items": null,
      "align_self": null,
      "border": null,
      "bottom": null,
      "display": null,
      "flex": null,
      "flex_flow": null,
      "grid_area": null,
      "grid_auto_columns": null,
      "grid_auto_flow": null,
      "grid_auto_rows": null,
      "grid_column": null,
      "grid_gap": null,
      "grid_row": null,
      "grid_template_areas": null,
      "grid_template_columns": null,
      "grid_template_rows": null,
      "height": null,
      "justify_content": null,
      "justify_items": null,
      "left": null,
      "margin": null,
      "max_height": null,
      "max_width": null,
      "min_height": null,
      "min_width": null,
      "object_fit": null,
      "object_position": null,
      "order": null,
      "overflow": null,
      "overflow_x": null,
      "overflow_y": null,
      "padding": null,
      "right": null,
      "top": null,
      "visibility": null,
      "width": null
     }
    },
    "1a69e588de3742a1b53ebb894b04541c": {
     "model_module": "@jupyter-widgets/controls",
     "model_module_version": "1.5.0",
     "model_name": "FloatProgressModel",
     "state": {
      "_dom_classes": [],
      "_model_module": "@jupyter-widgets/controls",
      "_model_module_version": "1.5.0",
      "_model_name": "FloatProgressModel",
      "_view_count": null,
      "_view_module": "@jupyter-widgets/controls",
      "_view_module_version": "1.5.0",
      "_view_name": "ProgressView",
      "bar_style": "success",
      "description": "",
      "description_tooltip": null,
      "layout": "IPY_MODEL_0d25507bfa934c029188baaf60fcb459",
      "max": 1648877,
      "min": 0,
      "orientation": "horizontal",
      "style": "IPY_MODEL_ed8c10386f2b4f49bcbb41b7b6ebebb7",
      "value": 1648877
     }
    },
    "1ce4948da58242678339b2897a622ff3": {
     "model_module": "@jupyter-widgets/base",
     "model_module_version": "1.2.0",
     "model_name": "LayoutModel",
     "state": {
      "_model_module": "@jupyter-widgets/base",
      "_model_module_version": "1.2.0",
      "_model_name": "LayoutModel",
      "_view_count": null,
      "_view_module": "@jupyter-widgets/base",
      "_view_module_version": "1.2.0",
      "_view_name": "LayoutView",
      "align_content": null,
      "align_items": null,
      "align_self": null,
      "border": null,
      "bottom": null,
      "display": null,
      "flex": null,
      "flex_flow": null,
      "grid_area": null,
      "grid_auto_columns": null,
      "grid_auto_flow": null,
      "grid_auto_rows": null,
      "grid_column": null,
      "grid_gap": null,
      "grid_row": null,
      "grid_template_areas": null,
      "grid_template_columns": null,
      "grid_template_rows": null,
      "height": null,
      "justify_content": null,
      "justify_items": null,
      "left": null,
      "margin": null,
      "max_height": null,
      "max_width": null,
      "min_height": null,
      "min_width": null,
      "object_fit": null,
      "object_position": null,
      "order": null,
      "overflow": null,
      "overflow_x": null,
      "overflow_y": null,
      "padding": null,
      "right": null,
      "top": null,
      "visibility": null,
      "width": null
     }
    },
    "2798a1b5c0ac40fa9cf3e87933f185f4": {
     "model_module": "@jupyter-widgets/controls",
     "model_module_version": "1.5.0",
     "model_name": "HBoxModel",
     "state": {
      "_dom_classes": [],
      "_model_module": "@jupyter-widgets/controls",
      "_model_module_version": "1.5.0",
      "_model_name": "HBoxModel",
      "_view_count": null,
      "_view_module": "@jupyter-widgets/controls",
      "_view_module_version": "1.5.0",
      "_view_name": "HBoxView",
      "box_style": "",
      "children": [
       "IPY_MODEL_b85b40b836c54fc081d946e2050eb8cf",
       "IPY_MODEL_61a5ba98b2b442a3af93fb84fde107af",
       "IPY_MODEL_a1cc7efadddd44e38ed47ddc9ba488e2"
      ],
      "layout": "IPY_MODEL_1ce4948da58242678339b2897a622ff3"
     }
    },
    "2dc20605b6ae46a4b4ddf0a47be5dfd1": {
     "model_module": "@jupyter-widgets/controls",
     "model_module_version": "1.5.0",
     "model_name": "ProgressStyleModel",
     "state": {
      "_model_module": "@jupyter-widgets/controls",
      "_model_module_version": "1.5.0",
      "_model_name": "ProgressStyleModel",
      "_view_count": null,
      "_view_module": "@jupyter-widgets/base",
      "_view_module_version": "1.2.0",
      "_view_name": "StyleView",
      "bar_color": null,
      "description_width": ""
     }
    },
    "32ba3952b07b40adb086ad9039e0faae": {
     "model_module": "@jupyter-widgets/controls",
     "model_module_version": "1.5.0",
     "model_name": "ProgressStyleModel",
     "state": {
      "_model_module": "@jupyter-widgets/controls",
      "_model_module_version": "1.5.0",
      "_model_name": "ProgressStyleModel",
      "_view_count": null,
      "_view_module": "@jupyter-widgets/base",
      "_view_module_version": "1.2.0",
      "_view_name": "StyleView",
      "bar_color": null,
      "description_width": ""
     }
    },
    "34bb5a478c7b4029b0bdad8e0c182e18": {
     "model_module": "@jupyter-widgets/controls",
     "model_module_version": "1.5.0",
     "model_name": "DescriptionStyleModel",
     "state": {
      "_model_module": "@jupyter-widgets/controls",
      "_model_module_version": "1.5.0",
      "_model_name": "DescriptionStyleModel",
      "_view_count": null,
      "_view_module": "@jupyter-widgets/base",
      "_view_module_version": "1.2.0",
      "_view_name": "StyleView",
      "description_width": ""
     }
    },
    "37601832493a455db0d486b67c97a839": {
     "model_module": "@jupyter-widgets/controls",
     "model_module_version": "1.5.0",
     "model_name": "DescriptionStyleModel",
     "state": {
      "_model_module": "@jupyter-widgets/controls",
      "_model_module_version": "1.5.0",
      "_model_name": "DescriptionStyleModel",
      "_view_count": null,
      "_view_module": "@jupyter-widgets/base",
      "_view_module_version": "1.2.0",
      "_view_name": "StyleView",
      "description_width": ""
     }
    },
    "392a2160b1d148619e23cdb7b8db4487": {
     "model_module": "@jupyter-widgets/base",
     "model_module_version": "1.2.0",
     "model_name": "LayoutModel",
     "state": {
      "_model_module": "@jupyter-widgets/base",
      "_model_module_version": "1.2.0",
      "_model_name": "LayoutModel",
      "_view_count": null,
      "_view_module": "@jupyter-widgets/base",
      "_view_module_version": "1.2.0",
      "_view_name": "LayoutView",
      "align_content": null,
      "align_items": null,
      "align_self": null,
      "border": null,
      "bottom": null,
      "display": null,
      "flex": null,
      "flex_flow": null,
      "grid_area": null,
      "grid_auto_columns": null,
      "grid_auto_flow": null,
      "grid_auto_rows": null,
      "grid_column": null,
      "grid_gap": null,
      "grid_row": null,
      "grid_template_areas": null,
      "grid_template_columns": null,
      "grid_template_rows": null,
      "height": null,
      "justify_content": null,
      "justify_items": null,
      "left": null,
      "margin": null,
      "max_height": null,
      "max_width": null,
      "min_height": null,
      "min_width": null,
      "object_fit": null,
      "object_position": null,
      "order": null,
      "overflow": null,
      "overflow_x": null,
      "overflow_y": null,
      "padding": null,
      "right": null,
      "top": null,
      "visibility": null,
      "width": null
     }
    },
    "40219dbad84c4c058a771e7394816bad": {
     "model_module": "@jupyter-widgets/base",
     "model_module_version": "1.2.0",
     "model_name": "LayoutModel",
     "state": {
      "_model_module": "@jupyter-widgets/base",
      "_model_module_version": "1.2.0",
      "_model_name": "LayoutModel",
      "_view_count": null,
      "_view_module": "@jupyter-widgets/base",
      "_view_module_version": "1.2.0",
      "_view_name": "LayoutView",
      "align_content": null,
      "align_items": null,
      "align_self": null,
      "border": null,
      "bottom": null,
      "display": null,
      "flex": null,
      "flex_flow": null,
      "grid_area": null,
      "grid_auto_columns": null,
      "grid_auto_flow": null,
      "grid_auto_rows": null,
      "grid_column": null,
      "grid_gap": null,
      "grid_row": null,
      "grid_template_areas": null,
      "grid_template_columns": null,
      "grid_template_rows": null,
      "height": null,
      "justify_content": null,
      "justify_items": null,
      "left": null,
      "margin": null,
      "max_height": null,
      "max_width": null,
      "min_height": null,
      "min_width": null,
      "object_fit": null,
      "object_position": null,
      "order": null,
      "overflow": null,
      "overflow_x": null,
      "overflow_y": null,
      "padding": null,
      "right": null,
      "top": null,
      "visibility": null,
      "width": null
     }
    },
    "4506a5306adb4fde926f1d48d66eae04": {
     "model_module": "@jupyter-widgets/base",
     "model_module_version": "1.2.0",
     "model_name": "LayoutModel",
     "state": {
      "_model_module": "@jupyter-widgets/base",
      "_model_module_version": "1.2.0",
      "_model_name": "LayoutModel",
      "_view_count": null,
      "_view_module": "@jupyter-widgets/base",
      "_view_module_version": "1.2.0",
      "_view_name": "LayoutView",
      "align_content": null,
      "align_items": null,
      "align_self": null,
      "border": null,
      "bottom": null,
      "display": null,
      "flex": null,
      "flex_flow": null,
      "grid_area": null,
      "grid_auto_columns": null,
      "grid_auto_flow": null,
      "grid_auto_rows": null,
      "grid_column": null,
      "grid_gap": null,
      "grid_row": null,
      "grid_template_areas": null,
      "grid_template_columns": null,
      "grid_template_rows": null,
      "height": null,
      "justify_content": null,
      "justify_items": null,
      "left": null,
      "margin": null,
      "max_height": null,
      "max_width": null,
      "min_height": null,
      "min_width": null,
      "object_fit": null,
      "object_position": null,
      "order": null,
      "overflow": null,
      "overflow_x": null,
      "overflow_y": null,
      "padding": null,
      "right": null,
      "top": null,
      "visibility": null,
      "width": null
     }
    },
    "56bc745cce6d4682b5040bfa11816168": {
     "model_module": "@jupyter-widgets/controls",
     "model_module_version": "1.5.0",
     "model_name": "ProgressStyleModel",
     "state": {
      "_model_module": "@jupyter-widgets/controls",
      "_model_module_version": "1.5.0",
      "_model_name": "ProgressStyleModel",
      "_view_count": null,
      "_view_module": "@jupyter-widgets/base",
      "_view_module_version": "1.2.0",
      "_view_name": "StyleView",
      "bar_color": null,
      "description_width": ""
     }
    },
    "58aed4bed9ea45b29ae24073bc023370": {
     "model_module": "@jupyter-widgets/base",
     "model_module_version": "1.2.0",
     "model_name": "LayoutModel",
     "state": {
      "_model_module": "@jupyter-widgets/base",
      "_model_module_version": "1.2.0",
      "_model_name": "LayoutModel",
      "_view_count": null,
      "_view_module": "@jupyter-widgets/base",
      "_view_module_version": "1.2.0",
      "_view_name": "LayoutView",
      "align_content": null,
      "align_items": null,
      "align_self": null,
      "border": null,
      "bottom": null,
      "display": null,
      "flex": null,
      "flex_flow": null,
      "grid_area": null,
      "grid_auto_columns": null,
      "grid_auto_flow": null,
      "grid_auto_rows": null,
      "grid_column": null,
      "grid_gap": null,
      "grid_row": null,
      "grid_template_areas": null,
      "grid_template_columns": null,
      "grid_template_rows": null,
      "height": null,
      "justify_content": null,
      "justify_items": null,
      "left": null,
      "margin": null,
      "max_height": null,
      "max_width": null,
      "min_height": null,
      "min_width": null,
      "object_fit": null,
      "object_position": null,
      "order": null,
      "overflow": null,
      "overflow_x": null,
      "overflow_y": null,
      "padding": null,
      "right": null,
      "top": null,
      "visibility": null,
      "width": null
     }
    },
    "5b06857a034f4a7690440ae1d95e7d94": {
     "model_module": "@jupyter-widgets/base",
     "model_module_version": "1.2.0",
     "model_name": "LayoutModel",
     "state": {
      "_model_module": "@jupyter-widgets/base",
      "_model_module_version": "1.2.0",
      "_model_name": "LayoutModel",
      "_view_count": null,
      "_view_module": "@jupyter-widgets/base",
      "_view_module_version": "1.2.0",
      "_view_name": "LayoutView",
      "align_content": null,
      "align_items": null,
      "align_self": null,
      "border": null,
      "bottom": null,
      "display": null,
      "flex": null,
      "flex_flow": null,
      "grid_area": null,
      "grid_auto_columns": null,
      "grid_auto_flow": null,
      "grid_auto_rows": null,
      "grid_column": null,
      "grid_gap": null,
      "grid_row": null,
      "grid_template_areas": null,
      "grid_template_columns": null,
      "grid_template_rows": null,
      "height": null,
      "justify_content": null,
      "justify_items": null,
      "left": null,
      "margin": null,
      "max_height": null,
      "max_width": null,
      "min_height": null,
      "min_width": null,
      "object_fit": null,
      "object_position": null,
      "order": null,
      "overflow": null,
      "overflow_x": null,
      "overflow_y": null,
      "padding": null,
      "right": null,
      "top": null,
      "visibility": null,
      "width": null
     }
    },
    "5b37c880b1984dd0bd9546b09455ce73": {
     "model_module": "@jupyter-widgets/base",
     "model_module_version": "1.2.0",
     "model_name": "LayoutModel",
     "state": {
      "_model_module": "@jupyter-widgets/base",
      "_model_module_version": "1.2.0",
      "_model_name": "LayoutModel",
      "_view_count": null,
      "_view_module": "@jupyter-widgets/base",
      "_view_module_version": "1.2.0",
      "_view_name": "LayoutView",
      "align_content": null,
      "align_items": null,
      "align_self": null,
      "border": null,
      "bottom": null,
      "display": null,
      "flex": null,
      "flex_flow": null,
      "grid_area": null,
      "grid_auto_columns": null,
      "grid_auto_flow": null,
      "grid_auto_rows": null,
      "grid_column": null,
      "grid_gap": null,
      "grid_row": null,
      "grid_template_areas": null,
      "grid_template_columns": null,
      "grid_template_rows": null,
      "height": null,
      "justify_content": null,
      "justify_items": null,
      "left": null,
      "margin": null,
      "max_height": null,
      "max_width": null,
      "min_height": null,
      "min_width": null,
      "object_fit": null,
      "object_position": null,
      "order": null,
      "overflow": null,
      "overflow_x": null,
      "overflow_y": null,
      "padding": null,
      "right": null,
      "top": null,
      "visibility": null,
      "width": null
     }
    },
    "61a5ba98b2b442a3af93fb84fde107af": {
     "model_module": "@jupyter-widgets/controls",
     "model_module_version": "1.5.0",
     "model_name": "FloatProgressModel",
     "state": {
      "_dom_classes": [],
      "_model_module": "@jupyter-widgets/controls",
      "_model_module_version": "1.5.0",
      "_model_name": "FloatProgressModel",
      "_view_count": null,
      "_view_module": "@jupyter-widgets/controls",
      "_view_module_version": "1.5.0",
      "_view_name": "ProgressView",
      "bar_style": "success",
      "description": "",
      "description_tooltip": null,
      "layout": "IPY_MODEL_dfb6c4f079e34d1db07d61d698c86344",
      "max": 28881,
      "min": 0,
      "orientation": "horizontal",
      "style": "IPY_MODEL_2dc20605b6ae46a4b4ddf0a47be5dfd1",
      "value": 28881
     }
    },
    "6634f780b244422fb3232f6519fd42b1": {
     "model_module": "@jupyter-widgets/controls",
     "model_module_version": "1.5.0",
     "model_name": "HBoxModel",
     "state": {
      "_dom_classes": [],
      "_model_module": "@jupyter-widgets/controls",
      "_model_module_version": "1.5.0",
      "_model_name": "HBoxModel",
      "_view_count": null,
      "_view_module": "@jupyter-widgets/controls",
      "_view_module_version": "1.5.0",
      "_view_name": "HBoxView",
      "box_style": "",
      "children": [
       "IPY_MODEL_b637f1f3b1774c62b30d1fe3decffc8e",
       "IPY_MODEL_a84cfdae5f0f4e338688f971c4a959fa",
       "IPY_MODEL_6761c94b359449dc99f00e6ef2915aa3"
      ],
      "layout": "IPY_MODEL_9397defd971a44309e2cea8a1f89d96a"
     }
    },
    "6761c94b359449dc99f00e6ef2915aa3": {
     "model_module": "@jupyter-widgets/controls",
     "model_module_version": "1.5.0",
     "model_name": "HTMLModel",
     "state": {
      "_dom_classes": [],
      "_model_module": "@jupyter-widgets/controls",
      "_model_module_version": "1.5.0",
      "_model_name": "HTMLModel",
      "_view_count": null,
      "_view_module": "@jupyter-widgets/controls",
      "_view_module_version": "1.5.0",
      "_view_name": "HTMLView",
      "description": "",
      "description_tooltip": null,
      "layout": "IPY_MODEL_4506a5306adb4fde926f1d48d66eae04",
      "placeholder": "​",
      "style": "IPY_MODEL_b00ac173d88f487fb2445f23c4c571dc",
      "value": " 9913344/? [00:00&lt;00:00, 20626073.27it/s]"
     }
    },
    "68cb53e0ff04403fae8c2b60324a0f68": {
     "model_module": "@jupyter-widgets/controls",
     "model_module_version": "1.5.0",
     "model_name": "HBoxModel",
     "state": {
      "_dom_classes": [],
      "_model_module": "@jupyter-widgets/controls",
      "_model_module_version": "1.5.0",
      "_model_name": "HBoxModel",
      "_view_count": null,
      "_view_module": "@jupyter-widgets/controls",
      "_view_module_version": "1.5.0",
      "_view_name": "HBoxView",
      "box_style": "",
      "children": [
       "IPY_MODEL_e0fdf480c6ac4463a4205c85cf3b0e8d",
       "IPY_MODEL_de31a98967b1472b82e1ee0a21e2f827",
       "IPY_MODEL_a481061564704d1cb70aa80bc12030e7"
      ],
      "layout": "IPY_MODEL_58aed4bed9ea45b29ae24073bc023370"
     }
    },
    "7923dfc8d4304f3ca09fac89d634b623": {
     "model_module": "@jupyter-widgets/base",
     "model_module_version": "1.2.0",
     "model_name": "LayoutModel",
     "state": {
      "_model_module": "@jupyter-widgets/base",
      "_model_module_version": "1.2.0",
      "_model_name": "LayoutModel",
      "_view_count": null,
      "_view_module": "@jupyter-widgets/base",
      "_view_module_version": "1.2.0",
      "_view_name": "LayoutView",
      "align_content": null,
      "align_items": null,
      "align_self": null,
      "border": null,
      "bottom": null,
      "display": null,
      "flex": null,
      "flex_flow": null,
      "grid_area": null,
      "grid_auto_columns": null,
      "grid_auto_flow": null,
      "grid_auto_rows": null,
      "grid_column": null,
      "grid_gap": null,
      "grid_row": null,
      "grid_template_areas": null,
      "grid_template_columns": null,
      "grid_template_rows": null,
      "height": null,
      "justify_content": null,
      "justify_items": null,
      "left": null,
      "margin": null,
      "max_height": null,
      "max_width": null,
      "min_height": null,
      "min_width": null,
      "object_fit": null,
      "object_position": null,
      "order": null,
      "overflow": null,
      "overflow_x": null,
      "overflow_y": null,
      "padding": null,
      "right": null,
      "top": null,
      "visibility": null,
      "width": null
     }
    },
    "8262916fe781477a996c3a8c183bb02a": {
     "model_module": "@jupyter-widgets/controls",
     "model_module_version": "1.5.0",
     "model_name": "DescriptionStyleModel",
     "state": {
      "_model_module": "@jupyter-widgets/controls",
      "_model_module_version": "1.5.0",
      "_model_name": "DescriptionStyleModel",
      "_view_count": null,
      "_view_module": "@jupyter-widgets/base",
      "_view_module_version": "1.2.0",
      "_view_name": "StyleView",
      "description_width": ""
     }
    },
    "921b99267e6d4371a8b2d2bf36e4b525": {
     "model_module": "@jupyter-widgets/controls",
     "model_module_version": "1.5.0",
     "model_name": "HTMLModel",
     "state": {
      "_dom_classes": [],
      "_model_module": "@jupyter-widgets/controls",
      "_model_module_version": "1.5.0",
      "_model_name": "HTMLModel",
      "_view_count": null,
      "_view_module": "@jupyter-widgets/controls",
      "_view_module_version": "1.5.0",
      "_view_name": "HTMLView",
      "description": "",
      "description_tooltip": null,
      "layout": "IPY_MODEL_5b37c880b1984dd0bd9546b09455ce73",
      "placeholder": "​",
      "style": "IPY_MODEL_37601832493a455db0d486b67c97a839",
      "value": " 1649664/? [00:00&lt;00:00, 4439971.56it/s]"
     }
    },
    "9397defd971a44309e2cea8a1f89d96a": {
     "model_module": "@jupyter-widgets/base",
     "model_module_version": "1.2.0",
     "model_name": "LayoutModel",
     "state": {
      "_model_module": "@jupyter-widgets/base",
      "_model_module_version": "1.2.0",
      "_model_name": "LayoutModel",
      "_view_count": null,
      "_view_module": "@jupyter-widgets/base",
      "_view_module_version": "1.2.0",
      "_view_name": "LayoutView",
      "align_content": null,
      "align_items": null,
      "align_self": null,
      "border": null,
      "bottom": null,
      "display": null,
      "flex": null,
      "flex_flow": null,
      "grid_area": null,
      "grid_auto_columns": null,
      "grid_auto_flow": null,
      "grid_auto_rows": null,
      "grid_column": null,
      "grid_gap": null,
      "grid_row": null,
      "grid_template_areas": null,
      "grid_template_columns": null,
      "grid_template_rows": null,
      "height": null,
      "justify_content": null,
      "justify_items": null,
      "left": null,
      "margin": null,
      "max_height": null,
      "max_width": null,
      "min_height": null,
      "min_width": null,
      "object_fit": null,
      "object_position": null,
      "order": null,
      "overflow": null,
      "overflow_x": null,
      "overflow_y": null,
      "padding": null,
      "right": null,
      "top": null,
      "visibility": null,
      "width": null
     }
    },
    "a1cc7efadddd44e38ed47ddc9ba488e2": {
     "model_module": "@jupyter-widgets/controls",
     "model_module_version": "1.5.0",
     "model_name": "HTMLModel",
     "state": {
      "_dom_classes": [],
      "_model_module": "@jupyter-widgets/controls",
      "_model_module_version": "1.5.0",
      "_model_name": "HTMLModel",
      "_view_count": null,
      "_view_module": "@jupyter-widgets/controls",
      "_view_module_version": "1.5.0",
      "_view_name": "HTMLView",
      "description": "",
      "description_tooltip": null,
      "layout": "IPY_MODEL_c61b6718724a4de08b9531956770420b",
      "placeholder": "​",
      "style": "IPY_MODEL_34bb5a478c7b4029b0bdad8e0c182e18",
      "value": " 29696/? [00:00&lt;00:00, 419616.92it/s]"
     }
    },
    "a481061564704d1cb70aa80bc12030e7": {
     "model_module": "@jupyter-widgets/controls",
     "model_module_version": "1.5.0",
     "model_name": "HTMLModel",
     "state": {
      "_dom_classes": [],
      "_model_module": "@jupyter-widgets/controls",
      "_model_module_version": "1.5.0",
      "_model_name": "HTMLModel",
      "_view_count": null,
      "_view_module": "@jupyter-widgets/controls",
      "_view_module_version": "1.5.0",
      "_view_name": "HTMLView",
      "description": "",
      "description_tooltip": null,
      "layout": "IPY_MODEL_e6cc6df13efb49b39b906b99aad24f6d",
      "placeholder": "​",
      "style": "IPY_MODEL_cf55447b43b046ed84f5771d17500fb5",
      "value": " 5120/? [00:00&lt;00:00, 145367.41it/s]"
     }
    },
    "a84cfdae5f0f4e338688f971c4a959fa": {
     "model_module": "@jupyter-widgets/controls",
     "model_module_version": "1.5.0",
     "model_name": "FloatProgressModel",
     "state": {
      "_dom_classes": [],
      "_model_module": "@jupyter-widgets/controls",
      "_model_module_version": "1.5.0",
      "_model_name": "FloatProgressModel",
      "_view_count": null,
      "_view_module": "@jupyter-widgets/controls",
      "_view_module_version": "1.5.0",
      "_view_name": "ProgressView",
      "bar_style": "success",
      "description": "",
      "description_tooltip": null,
      "layout": "IPY_MODEL_ae042d49c9464ba38eda076cec5dc4cd",
      "max": 9912422,
      "min": 0,
      "orientation": "horizontal",
      "style": "IPY_MODEL_56bc745cce6d4682b5040bfa11816168",
      "value": 9912422
     }
    },
    "ab58ac8626be4d21986ec2548ad19f33": {
     "model_module": "@jupyter-widgets/base",
     "model_module_version": "1.2.0",
     "model_name": "LayoutModel",
     "state": {
      "_model_module": "@jupyter-widgets/base",
      "_model_module_version": "1.2.0",
      "_model_name": "LayoutModel",
      "_view_count": null,
      "_view_module": "@jupyter-widgets/base",
      "_view_module_version": "1.2.0",
      "_view_name": "LayoutView",
      "align_content": null,
      "align_items": null,
      "align_self": null,
      "border": null,
      "bottom": null,
      "display": null,
      "flex": null,
      "flex_flow": null,
      "grid_area": null,
      "grid_auto_columns": null,
      "grid_auto_flow": null,
      "grid_auto_rows": null,
      "grid_column": null,
      "grid_gap": null,
      "grid_row": null,
      "grid_template_areas": null,
      "grid_template_columns": null,
      "grid_template_rows": null,
      "height": null,
      "justify_content": null,
      "justify_items": null,
      "left": null,
      "margin": null,
      "max_height": null,
      "max_width": null,
      "min_height": null,
      "min_width": null,
      "object_fit": null,
      "object_position": null,
      "order": null,
      "overflow": null,
      "overflow_x": null,
      "overflow_y": null,
      "padding": null,
      "right": null,
      "top": null,
      "visibility": null,
      "width": null
     }
    },
    "ae042d49c9464ba38eda076cec5dc4cd": {
     "model_module": "@jupyter-widgets/base",
     "model_module_version": "1.2.0",
     "model_name": "LayoutModel",
     "state": {
      "_model_module": "@jupyter-widgets/base",
      "_model_module_version": "1.2.0",
      "_model_name": "LayoutModel",
      "_view_count": null,
      "_view_module": "@jupyter-widgets/base",
      "_view_module_version": "1.2.0",
      "_view_name": "LayoutView",
      "align_content": null,
      "align_items": null,
      "align_self": null,
      "border": null,
      "bottom": null,
      "display": null,
      "flex": null,
      "flex_flow": null,
      "grid_area": null,
      "grid_auto_columns": null,
      "grid_auto_flow": null,
      "grid_auto_rows": null,
      "grid_column": null,
      "grid_gap": null,
      "grid_row": null,
      "grid_template_areas": null,
      "grid_template_columns": null,
      "grid_template_rows": null,
      "height": null,
      "justify_content": null,
      "justify_items": null,
      "left": null,
      "margin": null,
      "max_height": null,
      "max_width": null,
      "min_height": null,
      "min_width": null,
      "object_fit": null,
      "object_position": null,
      "order": null,
      "overflow": null,
      "overflow_x": null,
      "overflow_y": null,
      "padding": null,
      "right": null,
      "top": null,
      "visibility": null,
      "width": null
     }
    },
    "b00ac173d88f487fb2445f23c4c571dc": {
     "model_module": "@jupyter-widgets/controls",
     "model_module_version": "1.5.0",
     "model_name": "DescriptionStyleModel",
     "state": {
      "_model_module": "@jupyter-widgets/controls",
      "_model_module_version": "1.5.0",
      "_model_name": "DescriptionStyleModel",
      "_view_count": null,
      "_view_module": "@jupyter-widgets/base",
      "_view_module_version": "1.2.0",
      "_view_name": "StyleView",
      "description_width": ""
     }
    },
    "b637f1f3b1774c62b30d1fe3decffc8e": {
     "model_module": "@jupyter-widgets/controls",
     "model_module_version": "1.5.0",
     "model_name": "HTMLModel",
     "state": {
      "_dom_classes": [],
      "_model_module": "@jupyter-widgets/controls",
      "_model_module_version": "1.5.0",
      "_model_name": "HTMLModel",
      "_view_count": null,
      "_view_module": "@jupyter-widgets/controls",
      "_view_module_version": "1.5.0",
      "_view_name": "HTMLView",
      "description": "",
      "description_tooltip": null,
      "layout": "IPY_MODEL_7923dfc8d4304f3ca09fac89d634b623",
      "placeholder": "​",
      "style": "IPY_MODEL_c072a671a9464bd6b115ffadc9237df6",
      "value": ""
     }
    },
    "b85b40b836c54fc081d946e2050eb8cf": {
     "model_module": "@jupyter-widgets/controls",
     "model_module_version": "1.5.0",
     "model_name": "HTMLModel",
     "state": {
      "_dom_classes": [],
      "_model_module": "@jupyter-widgets/controls",
      "_model_module_version": "1.5.0",
      "_model_name": "HTMLModel",
      "_view_count": null,
      "_view_module": "@jupyter-widgets/controls",
      "_view_module_version": "1.5.0",
      "_view_name": "HTMLView",
      "description": "",
      "description_tooltip": null,
      "layout": "IPY_MODEL_392a2160b1d148619e23cdb7b8db4487",
      "placeholder": "​",
      "style": "IPY_MODEL_8262916fe781477a996c3a8c183bb02a",
      "value": ""
     }
    },
    "c009cd31906a4a48a1dcf8dfb440727c": {
     "model_module": "@jupyter-widgets/controls",
     "model_module_version": "1.5.0",
     "model_name": "DescriptionStyleModel",
     "state": {
      "_model_module": "@jupyter-widgets/controls",
      "_model_module_version": "1.5.0",
      "_model_name": "DescriptionStyleModel",
      "_view_count": null,
      "_view_module": "@jupyter-widgets/base",
      "_view_module_version": "1.2.0",
      "_view_name": "StyleView",
      "description_width": ""
     }
    },
    "c072a671a9464bd6b115ffadc9237df6": {
     "model_module": "@jupyter-widgets/controls",
     "model_module_version": "1.5.0",
     "model_name": "DescriptionStyleModel",
     "state": {
      "_model_module": "@jupyter-widgets/controls",
      "_model_module_version": "1.5.0",
      "_model_name": "DescriptionStyleModel",
      "_view_count": null,
      "_view_module": "@jupyter-widgets/base",
      "_view_module_version": "1.2.0",
      "_view_name": "StyleView",
      "description_width": ""
     }
    },
    "c20e9119b3624af198f451936bfb2b29": {
     "model_module": "@jupyter-widgets/base",
     "model_module_version": "1.2.0",
     "model_name": "LayoutModel",
     "state": {
      "_model_module": "@jupyter-widgets/base",
      "_model_module_version": "1.2.0",
      "_model_name": "LayoutModel",
      "_view_count": null,
      "_view_module": "@jupyter-widgets/base",
      "_view_module_version": "1.2.0",
      "_view_name": "LayoutView",
      "align_content": null,
      "align_items": null,
      "align_self": null,
      "border": null,
      "bottom": null,
      "display": null,
      "flex": null,
      "flex_flow": null,
      "grid_area": null,
      "grid_auto_columns": null,
      "grid_auto_flow": null,
      "grid_auto_rows": null,
      "grid_column": null,
      "grid_gap": null,
      "grid_row": null,
      "grid_template_areas": null,
      "grid_template_columns": null,
      "grid_template_rows": null,
      "height": null,
      "justify_content": null,
      "justify_items": null,
      "left": null,
      "margin": null,
      "max_height": null,
      "max_width": null,
      "min_height": null,
      "min_width": null,
      "object_fit": null,
      "object_position": null,
      "order": null,
      "overflow": null,
      "overflow_x": null,
      "overflow_y": null,
      "padding": null,
      "right": null,
      "top": null,
      "visibility": null,
      "width": null
     }
    },
    "c61b6718724a4de08b9531956770420b": {
     "model_module": "@jupyter-widgets/base",
     "model_module_version": "1.2.0",
     "model_name": "LayoutModel",
     "state": {
      "_model_module": "@jupyter-widgets/base",
      "_model_module_version": "1.2.0",
      "_model_name": "LayoutModel",
      "_view_count": null,
      "_view_module": "@jupyter-widgets/base",
      "_view_module_version": "1.2.0",
      "_view_name": "LayoutView",
      "align_content": null,
      "align_items": null,
      "align_self": null,
      "border": null,
      "bottom": null,
      "display": null,
      "flex": null,
      "flex_flow": null,
      "grid_area": null,
      "grid_auto_columns": null,
      "grid_auto_flow": null,
      "grid_auto_rows": null,
      "grid_column": null,
      "grid_gap": null,
      "grid_row": null,
      "grid_template_areas": null,
      "grid_template_columns": null,
      "grid_template_rows": null,
      "height": null,
      "justify_content": null,
      "justify_items": null,
      "left": null,
      "margin": null,
      "max_height": null,
      "max_width": null,
      "min_height": null,
      "min_width": null,
      "object_fit": null,
      "object_position": null,
      "order": null,
      "overflow": null,
      "overflow_x": null,
      "overflow_y": null,
      "padding": null,
      "right": null,
      "top": null,
      "visibility": null,
      "width": null
     }
    },
    "ca6741eba9184e4ca78d8dff3adbc396": {
     "model_module": "@jupyter-widgets/controls",
     "model_module_version": "1.5.0",
     "model_name": "HBoxModel",
     "state": {
      "_dom_classes": [],
      "_model_module": "@jupyter-widgets/controls",
      "_model_module_version": "1.5.0",
      "_model_name": "HBoxModel",
      "_view_count": null,
      "_view_module": "@jupyter-widgets/controls",
      "_view_module_version": "1.5.0",
      "_view_name": "HBoxView",
      "box_style": "",
      "children": [
       "IPY_MODEL_f74403090b52483e987dfba27547d2be",
       "IPY_MODEL_1a69e588de3742a1b53ebb894b04541c",
       "IPY_MODEL_921b99267e6d4371a8b2d2bf36e4b525"
      ],
      "layout": "IPY_MODEL_c20e9119b3624af198f451936bfb2b29"
     }
    },
    "cf55447b43b046ed84f5771d17500fb5": {
     "model_module": "@jupyter-widgets/controls",
     "model_module_version": "1.5.0",
     "model_name": "DescriptionStyleModel",
     "state": {
      "_model_module": "@jupyter-widgets/controls",
      "_model_module_version": "1.5.0",
      "_model_name": "DescriptionStyleModel",
      "_view_count": null,
      "_view_module": "@jupyter-widgets/base",
      "_view_module_version": "1.2.0",
      "_view_name": "StyleView",
      "description_width": ""
     }
    },
    "de31a98967b1472b82e1ee0a21e2f827": {
     "model_module": "@jupyter-widgets/controls",
     "model_module_version": "1.5.0",
     "model_name": "FloatProgressModel",
     "state": {
      "_dom_classes": [],
      "_model_module": "@jupyter-widgets/controls",
      "_model_module_version": "1.5.0",
      "_model_name": "FloatProgressModel",
      "_view_count": null,
      "_view_module": "@jupyter-widgets/controls",
      "_view_module_version": "1.5.0",
      "_view_name": "ProgressView",
      "bar_style": "success",
      "description": "",
      "description_tooltip": null,
      "layout": "IPY_MODEL_40219dbad84c4c058a771e7394816bad",
      "max": 4542,
      "min": 0,
      "orientation": "horizontal",
      "style": "IPY_MODEL_32ba3952b07b40adb086ad9039e0faae",
      "value": 4542
     }
    },
    "dfb6c4f079e34d1db07d61d698c86344": {
     "model_module": "@jupyter-widgets/base",
     "model_module_version": "1.2.0",
     "model_name": "LayoutModel",
     "state": {
      "_model_module": "@jupyter-widgets/base",
      "_model_module_version": "1.2.0",
      "_model_name": "LayoutModel",
      "_view_count": null,
      "_view_module": "@jupyter-widgets/base",
      "_view_module_version": "1.2.0",
      "_view_name": "LayoutView",
      "align_content": null,
      "align_items": null,
      "align_self": null,
      "border": null,
      "bottom": null,
      "display": null,
      "flex": null,
      "flex_flow": null,
      "grid_area": null,
      "grid_auto_columns": null,
      "grid_auto_flow": null,
      "grid_auto_rows": null,
      "grid_column": null,
      "grid_gap": null,
      "grid_row": null,
      "grid_template_areas": null,
      "grid_template_columns": null,
      "grid_template_rows": null,
      "height": null,
      "justify_content": null,
      "justify_items": null,
      "left": null,
      "margin": null,
      "max_height": null,
      "max_width": null,
      "min_height": null,
      "min_width": null,
      "object_fit": null,
      "object_position": null,
      "order": null,
      "overflow": null,
      "overflow_x": null,
      "overflow_y": null,
      "padding": null,
      "right": null,
      "top": null,
      "visibility": null,
      "width": null
     }
    },
    "e0fdf480c6ac4463a4205c85cf3b0e8d": {
     "model_module": "@jupyter-widgets/controls",
     "model_module_version": "1.5.0",
     "model_name": "HTMLModel",
     "state": {
      "_dom_classes": [],
      "_model_module": "@jupyter-widgets/controls",
      "_model_module_version": "1.5.0",
      "_model_name": "HTMLModel",
      "_view_count": null,
      "_view_module": "@jupyter-widgets/controls",
      "_view_module_version": "1.5.0",
      "_view_name": "HTMLView",
      "description": "",
      "description_tooltip": null,
      "layout": "IPY_MODEL_5b06857a034f4a7690440ae1d95e7d94",
      "placeholder": "​",
      "style": "IPY_MODEL_fc962a140853490dadfc0cb0fb98437e",
      "value": ""
     }
    },
    "e6cc6df13efb49b39b906b99aad24f6d": {
     "model_module": "@jupyter-widgets/base",
     "model_module_version": "1.2.0",
     "model_name": "LayoutModel",
     "state": {
      "_model_module": "@jupyter-widgets/base",
      "_model_module_version": "1.2.0",
      "_model_name": "LayoutModel",
      "_view_count": null,
      "_view_module": "@jupyter-widgets/base",
      "_view_module_version": "1.2.0",
      "_view_name": "LayoutView",
      "align_content": null,
      "align_items": null,
      "align_self": null,
      "border": null,
      "bottom": null,
      "display": null,
      "flex": null,
      "flex_flow": null,
      "grid_area": null,
      "grid_auto_columns": null,
      "grid_auto_flow": null,
      "grid_auto_rows": null,
      "grid_column": null,
      "grid_gap": null,
      "grid_row": null,
      "grid_template_areas": null,
      "grid_template_columns": null,
      "grid_template_rows": null,
      "height": null,
      "justify_content": null,
      "justify_items": null,
      "left": null,
      "margin": null,
      "max_height": null,
      "max_width": null,
      "min_height": null,
      "min_width": null,
      "object_fit": null,
      "object_position": null,
      "order": null,
      "overflow": null,
      "overflow_x": null,
      "overflow_y": null,
      "padding": null,
      "right": null,
      "top": null,
      "visibility": null,
      "width": null
     }
    },
    "ed8c10386f2b4f49bcbb41b7b6ebebb7": {
     "model_module": "@jupyter-widgets/controls",
     "model_module_version": "1.5.0",
     "model_name": "ProgressStyleModel",
     "state": {
      "_model_module": "@jupyter-widgets/controls",
      "_model_module_version": "1.5.0",
      "_model_name": "ProgressStyleModel",
      "_view_count": null,
      "_view_module": "@jupyter-widgets/base",
      "_view_module_version": "1.2.0",
      "_view_name": "StyleView",
      "bar_color": null,
      "description_width": ""
     }
    },
    "f74403090b52483e987dfba27547d2be": {
     "model_module": "@jupyter-widgets/controls",
     "model_module_version": "1.5.0",
     "model_name": "HTMLModel",
     "state": {
      "_dom_classes": [],
      "_model_module": "@jupyter-widgets/controls",
      "_model_module_version": "1.5.0",
      "_model_name": "HTMLModel",
      "_view_count": null,
      "_view_module": "@jupyter-widgets/controls",
      "_view_module_version": "1.5.0",
      "_view_name": "HTMLView",
      "description": "",
      "description_tooltip": null,
      "layout": "IPY_MODEL_ab58ac8626be4d21986ec2548ad19f33",
      "placeholder": "​",
      "style": "IPY_MODEL_c009cd31906a4a48a1dcf8dfb440727c",
      "value": ""
     }
    },
    "fc962a140853490dadfc0cb0fb98437e": {
     "model_module": "@jupyter-widgets/controls",
     "model_module_version": "1.5.0",
     "model_name": "DescriptionStyleModel",
     "state": {
      "_model_module": "@jupyter-widgets/controls",
      "_model_module_version": "1.5.0",
      "_model_name": "DescriptionStyleModel",
      "_view_count": null,
      "_view_module": "@jupyter-widgets/base",
      "_view_module_version": "1.2.0",
      "_view_name": "StyleView",
      "description_width": ""
     }
    }
   }
  }
 },
 "nbformat": 4,
 "nbformat_minor": 5
}
